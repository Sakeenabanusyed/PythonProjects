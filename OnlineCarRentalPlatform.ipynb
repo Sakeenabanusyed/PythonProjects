{
 "cells": [
  {
   "cell_type": "markdown",
   "id": "a1632a02-4171-47ec-8ef8-3d1f10be9570",
   "metadata": {},
   "source": [
    "#### Online Car Rental Platform"
   ]
  },
  {
   "cell_type": "code",
   "execution_count": 68,
   "id": "5c3d2319-6a97-456b-9d3d-dee16cd8a91d",
   "metadata": {},
   "outputs": [],
   "source": [
    "#import datetime module \n",
    "import datetime "
   ]
  },
  {
   "cell_type": "code",
   "execution_count": 182,
   "id": "a380234c-258f-4cd2-86f3-85a2545c0633",
   "metadata": {},
   "outputs": [],
   "source": [
    "#CarRental class \n",
    "class CarRental: \n",
    "    def __init__(self, stock=0): \n",
    "        self.stock = stock \n",
    "        \n",
    "    def displayStock(self): \n",
    "        print(\"Currently {} cars are available to rent.\".format(self.stock))\n",
    "        return self.stock\n",
    "    \n",
    "    def rentCarOnHourlyBasis(self, n):\n",
    "        # Rent a car on hourly basis\n",
    "        if (n < 0):\n",
    "            print(\"Number of cars should be positive\")\n",
    "            return None\n",
    "        elif (n > self.stock):\n",
    "            print(\"Sorry ! we have currently {} cars available to rent.\".format(self.stock))\n",
    "            return None\n",
    "        else:\n",
    "            now = datetime.datetime.now()\n",
    "            print(\"You have rented a {} car(s) on horly basis today at {}:{} hours.\".format(n, now.hour, now.minute))\n",
    "            self.stock -= n\n",
    "            return now\n",
    "        \n",
    "    def rentCarOnDailyBasis(self, n): \n",
    "        if n <= 0: \n",
    "            print(\"Number of cars should be positive!\") \n",
    "            return None \n",
    "        elif n > self.stock: \n",
    "            print(\"Sorry! Currently {} cars are available to rent.\".format(self.stock)) \n",
    "            return None \n",
    "        else: \n",
    "            now = datetime.datetime.now() \n",
    "            print(\"You have rented a {} car(s) on daily basis today at {}:{} hours.\".format(n, now.hour, now.minute))\n",
    "            self.stock -= n\n",
    "            return now\n",
    "    \n",
    "    def rentCarOnWeeklyBasis(self, n): \n",
    "        if n <= 0: \n",
    "            print(\"Number of cars should be positive!\") \n",
    "            return None \n",
    "        elif n > self.stock: \n",
    "            print(\"Sorry! Currently {} cars are available to rent.\".format(self.stock)) \n",
    "            return None \n",
    "        else: \n",
    "            now = datetime.datetime.now() \n",
    "            print(\"You have rented a {} car(s) on weekly basis today at {}:{} hours.\".format(n, now.hour, now.minute))\n",
    "            self.stock -= n \n",
    "            return now\n",
    "    \n",
    "    def returnCar(self, rentalTime, rentalBasis, numOfCars): \n",
    "        bill = 0 \n",
    "        if rentalTime and rentalBasis and numOfCars: \n",
    "            self.stock += numOfCars \n",
    "            now = datetime.datetime.now() \n",
    "            rentalPeriod = now - rentalTime \n",
    "            print(rentalPeriod)\n",
    "        if rentalBasis == 1:\n",
    "            if(rentalPeriod.seconds <=300):\n",
    "                print(\"Standard Bill- is applied\")\n",
    "                bill = bill+5 # hourly \n",
    "                return bill\n",
    "            else:\n",
    "                bill = bill+round(rentalPeriod.seconds / 3600) * 5 * numOfCars \n",
    "                return bill\n",
    "                print(\"bill for an hour\",bill)\n",
    "        elif rentalBasis == 2: # daily \n",
    "            if(rentalPeriod.seconds <= 3600):\n",
    "                print(\"Standard Bill- is applied\")\n",
    "                bill = bill+5*24 # hourly \n",
    "                return bill\n",
    "            else:\n",
    "                bill = bill+round(rentalPeriod.seconds / 3600) * 120 * numOfCars \n",
    "                return bill\n",
    "                print(\"bill for an hour\",bill)\n",
    "                return bill\n",
    "        elif rentalBasis == 3: # weekly \n",
    "            if(rentalPeriod.seconds <= 3600):\n",
    "                print(\"Standard Bill- is applied\")\n",
    "                bill = bill+5*24 # hourly \n",
    "                return bill\n",
    "            else:\n",
    "                bill = bill+round(rentalPeriod.days / 7) * 360 * numOfCars \n",
    "                return bill\n",
    "                print(\"bill for an hour\",bill)\n",
    "                return bill\n",
    "            if (numOfCars >=2): print(\"You have a 20% discount!\") \n",
    "            bill = bill - bill*20/100\n",
    "            return bill \n",
    "        \n",
    "    "
   ]
  },
  {
   "cell_type": "code",
   "execution_count": 183,
   "id": "ae9cf17d-1433-49d8-ae8a-9bbaba55f9fc",
   "metadata": {},
   "outputs": [],
   "source": [
    "#Customer class \n",
    "class Customer:\n",
    "    \n",
    "    def __init__(self): \n",
    "        self.cars = 0 \n",
    "        self.rentalBasis = 0 \n",
    "        self.rentalTime = 0 \n",
    "        self.bill = 0\n",
    "    \n",
    "    def requestCar(self):\n",
    "        \n",
    "        try:\n",
    "            cars = int(input(\"How many cars would you like to rent?\")) \n",
    "        except ValueError: \n",
    "            print(\"That's not a positive integer!\") \n",
    "            return -1 \n",
    "        if cars < 1: \n",
    "            print(\"Invalid input. Number of cars should be greater than zero!\") \n",
    "            return -1 \n",
    "        else: \n",
    "            self.cars = cars \n",
    "            return self.cars \n",
    "    \n",
    "    def returnCar(self):\n",
    "        print(self.rentalBasis)\n",
    "        print(self.rentalTime)\n",
    "        print(self.cars)\n",
    "        if self.rentalBasis and self.rentalTime and self.cars: \n",
    "            return self.rentalTime, self.rentalBasis, self.cars\n",
    "        else: \n",
    "            return 0, 0, 0"
   ]
  },
  {
   "cell_type": "code",
   "execution_count": 184,
   "id": "78cf5e16-10cf-49a4-82a5-88f57b5d34f1",
   "metadata": {},
   "outputs": [],
   "source": [
    "def main():\n",
    "    shop = CarRental(100)\n",
    "    customer = Customer()\n",
    "    while True:\n",
    "        print(\"======== Car Rental Shop ========\")\n",
    "        print(\"1. Display available cars\")\n",
    "        print(\"2. Request a car on hourly basis $5\")\n",
    "        print(\"5. Return a car\")\n",
    "        print(\"6. Exit\")\n",
    "        choice = int(input(\"Enter choice: \"))\n",
    "        if (choice == 1):\n",
    "            shop.displayStock()\n",
    "\n",
    "        elif (choice == 2):\n",
    "            ncars = customer.requestCar()\n",
    "            print(ncars)\n",
    "            inp= int(input(\"How do you want to rent the car - 1. Hourly 2.Daily 3.Weekly\"))\n",
    "            if (inp == 1):\n",
    "                     customer.rentalTime = shop.rentCarOnHourlyBasis(ncars)\n",
    "                     customer.rentalBasis = 1\n",
    "            elif(inp ==2):\n",
    "                     customer.rentalTime = shop.rentCarOnDailyBasis(ncars)\n",
    "                     customer.rentalBasis = 2\n",
    "            elif(inp == 3):\n",
    "                     customer.rentalTime = shop.rentCarOnWeeklyBasis(ncars)\n",
    "                     customer.rentalBasis = 3\n",
    "            else:\n",
    "                     print(\"please enter the choose from 1,2 and 3\")\n",
    "            \n",
    "\n",
    "        elif (choice == 5):\n",
    "            rtime, rbasis, ncars = customer.returnCar()\n",
    "            customer.bill = shop.returnCar(rtime, rbasis, ncars)\n",
    "            print(\"Your final bill amount is $ : \", customer.bill)\n",
    "\n",
    "        elif (choice == 6):\n",
    "            break\n",
    "\n",
    "        else:\n",
    "            print(\"Invalid input. Pls enter a number between 1 and 6.\")\n",
    "        print(\"Thank you for using the car rental system\")"
   ]
  },
  {
   "cell_type": "code",
   "execution_count": 185,
   "id": "f09f6565-07fb-44df-a207-fc82e57819c0",
   "metadata": {},
   "outputs": [
    {
     "name": "stdout",
     "output_type": "stream",
     "text": [
      "======== Car Rental Shop ========\n",
      "1. Display available cars\n",
      "2. Request a car on hourly basis $5\n",
      "5. Return a car\n",
      "6. Exit\n"
     ]
    },
    {
     "name": "stdin",
     "output_type": "stream",
     "text": [
      "Enter choice:  1\n"
     ]
    },
    {
     "name": "stdout",
     "output_type": "stream",
     "text": [
      "Currently 100 cars are available to rent.\n",
      "Thank you for using the car rental system\n",
      "======== Car Rental Shop ========\n",
      "1. Display available cars\n",
      "2. Request a car on hourly basis $5\n",
      "5. Return a car\n",
      "6. Exit\n"
     ]
    },
    {
     "name": "stdin",
     "output_type": "stream",
     "text": [
      "Enter choice:  2\n",
      "How many cars would you like to rent? 3\n"
     ]
    },
    {
     "name": "stdout",
     "output_type": "stream",
     "text": [
      "3\n"
     ]
    },
    {
     "name": "stdin",
     "output_type": "stream",
     "text": [
      "How do you want to rent the car - 1. Hourly 2.Daily 3.Weekly 2\n"
     ]
    },
    {
     "name": "stdout",
     "output_type": "stream",
     "text": [
      "You have rented a 3 car(s) on daily basis today at 13:48 hours.\n",
      "Thank you for using the car rental system\n",
      "======== Car Rental Shop ========\n",
      "1. Display available cars\n",
      "2. Request a car on hourly basis $5\n",
      "5. Return a car\n",
      "6. Exit\n"
     ]
    },
    {
     "name": "stdin",
     "output_type": "stream",
     "text": [
      "Enter choice:  5\n"
     ]
    },
    {
     "name": "stdout",
     "output_type": "stream",
     "text": [
      "2\n",
      "2024-09-16 13:48:22.489755\n",
      "3\n",
      "0:00:01.494303\n",
      "Standard Bill- is applied\n",
      "Your final bill amount is $ :  120\n",
      "Thank you for using the car rental system\n",
      "======== Car Rental Shop ========\n",
      "1. Display available cars\n",
      "2. Request a car on hourly basis $5\n",
      "5. Return a car\n",
      "6. Exit\n"
     ]
    },
    {
     "name": "stdin",
     "output_type": "stream",
     "text": [
      "Enter choice:  6\n"
     ]
    }
   ],
   "source": [
    "main()"
   ]
  }
 ],
 "metadata": {
  "kernelspec": {
   "display_name": "Python 3 [3.10]",
   "language": "python",
   "name": "python3"
  },
  "language_info": {
   "codemirror_mode": {
    "name": "ipython",
    "version": 3
   },
   "file_extension": ".py",
   "mimetype": "text/x-python",
   "name": "python",
   "nbconvert_exporter": "python",
   "pygments_lexer": "ipython3",
   "version": "3.10.2"
  }
 },
 "nbformat": 4,
 "nbformat_minor": 5
}
