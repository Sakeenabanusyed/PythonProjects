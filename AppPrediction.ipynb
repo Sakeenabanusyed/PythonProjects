{
 "cells": [
  {
   "cell_type": "code",
   "execution_count": 261,
   "id": "19d1d4cd-b5f4-4da8-a13f-df3c58f6b2cb",
   "metadata": {},
   "outputs": [],
   "source": [
    "import pandas as pd\n",
    "import numpy as np\n",
    "import seaborn as sns"
   ]
  },
  {
   "cell_type": "markdown",
   "id": "2f38acc3-a84b-459e-bc8b-04bd18ef7b79",
   "metadata": {},
   "source": [
    "##### Load the data file using pandas."
   ]
  },
  {
   "cell_type": "code",
   "execution_count": 262,
   "id": "f1bc0d7a-c53d-40a0-8eeb-df31e5327e48",
   "metadata": {},
   "outputs": [],
   "source": [
    "data = pd.read_csv('googleplaystore.csv')"
   ]
  },
  {
   "cell_type": "code",
   "execution_count": 263,
   "id": "3fb2a1df-63fd-44b0-bd38-4651bc2feef9",
   "metadata": {},
   "outputs": [
    {
     "data": {
      "text/html": [
       "<div>\n",
       "<style scoped>\n",
       "    .dataframe tbody tr th:only-of-type {\n",
       "        vertical-align: middle;\n",
       "    }\n",
       "\n",
       "    .dataframe tbody tr th {\n",
       "        vertical-align: top;\n",
       "    }\n",
       "\n",
       "    .dataframe thead th {\n",
       "        text-align: right;\n",
       "    }\n",
       "</style>\n",
       "<table border=\"1\" class=\"dataframe\">\n",
       "  <thead>\n",
       "    <tr style=\"text-align: right;\">\n",
       "      <th></th>\n",
       "      <th>App</th>\n",
       "      <th>Category</th>\n",
       "      <th>Rating</th>\n",
       "      <th>Reviews</th>\n",
       "      <th>Size</th>\n",
       "      <th>Installs</th>\n",
       "      <th>Type</th>\n",
       "      <th>Price</th>\n",
       "      <th>Content Rating</th>\n",
       "      <th>Genres</th>\n",
       "      <th>Last Updated</th>\n",
       "      <th>Current Ver</th>\n",
       "      <th>Android Ver</th>\n",
       "    </tr>\n",
       "  </thead>\n",
       "  <tbody>\n",
       "    <tr>\n",
       "      <th>0</th>\n",
       "      <td>Photo Editor &amp; Candy Camera &amp; Grid &amp; ScrapBook</td>\n",
       "      <td>ART_AND_DESIGN</td>\n",
       "      <td>4.1</td>\n",
       "      <td>159</td>\n",
       "      <td>19M</td>\n",
       "      <td>10,000+</td>\n",
       "      <td>Free</td>\n",
       "      <td>0</td>\n",
       "      <td>Everyone</td>\n",
       "      <td>Art &amp; Design</td>\n",
       "      <td>January 7, 2018</td>\n",
       "      <td>1.0.0</td>\n",
       "      <td>4.0.3 and up</td>\n",
       "    </tr>\n",
       "    <tr>\n",
       "      <th>1</th>\n",
       "      <td>Coloring book moana</td>\n",
       "      <td>ART_AND_DESIGN</td>\n",
       "      <td>3.9</td>\n",
       "      <td>967</td>\n",
       "      <td>14M</td>\n",
       "      <td>500,000+</td>\n",
       "      <td>Free</td>\n",
       "      <td>0</td>\n",
       "      <td>Everyone</td>\n",
       "      <td>Art &amp; Design;Pretend Play</td>\n",
       "      <td>January 15, 2018</td>\n",
       "      <td>2.0.0</td>\n",
       "      <td>4.0.3 and up</td>\n",
       "    </tr>\n",
       "    <tr>\n",
       "      <th>2</th>\n",
       "      <td>U Launcher Lite – FREE Live Cool Themes, Hide ...</td>\n",
       "      <td>ART_AND_DESIGN</td>\n",
       "      <td>4.7</td>\n",
       "      <td>87510</td>\n",
       "      <td>8.7M</td>\n",
       "      <td>5,000,000+</td>\n",
       "      <td>Free</td>\n",
       "      <td>0</td>\n",
       "      <td>Everyone</td>\n",
       "      <td>Art &amp; Design</td>\n",
       "      <td>August 1, 2018</td>\n",
       "      <td>1.2.4</td>\n",
       "      <td>4.0.3 and up</td>\n",
       "    </tr>\n",
       "    <tr>\n",
       "      <th>3</th>\n",
       "      <td>Sketch - Draw &amp; Paint</td>\n",
       "      <td>ART_AND_DESIGN</td>\n",
       "      <td>4.5</td>\n",
       "      <td>215644</td>\n",
       "      <td>25M</td>\n",
       "      <td>50,000,000+</td>\n",
       "      <td>Free</td>\n",
       "      <td>0</td>\n",
       "      <td>Teen</td>\n",
       "      <td>Art &amp; Design</td>\n",
       "      <td>June 8, 2018</td>\n",
       "      <td>Varies with device</td>\n",
       "      <td>4.2 and up</td>\n",
       "    </tr>\n",
       "    <tr>\n",
       "      <th>4</th>\n",
       "      <td>Pixel Draw - Number Art Coloring Book</td>\n",
       "      <td>ART_AND_DESIGN</td>\n",
       "      <td>4.3</td>\n",
       "      <td>967</td>\n",
       "      <td>2.8M</td>\n",
       "      <td>100,000+</td>\n",
       "      <td>Free</td>\n",
       "      <td>0</td>\n",
       "      <td>Everyone</td>\n",
       "      <td>Art &amp; Design;Creativity</td>\n",
       "      <td>June 20, 2018</td>\n",
       "      <td>1.1</td>\n",
       "      <td>4.4 and up</td>\n",
       "    </tr>\n",
       "  </tbody>\n",
       "</table>\n",
       "</div>"
      ],
      "text/plain": [
       "                                                 App        Category  Rating  \\\n",
       "0     Photo Editor & Candy Camera & Grid & ScrapBook  ART_AND_DESIGN     4.1   \n",
       "1                                Coloring book moana  ART_AND_DESIGN     3.9   \n",
       "2  U Launcher Lite – FREE Live Cool Themes, Hide ...  ART_AND_DESIGN     4.7   \n",
       "3                              Sketch - Draw & Paint  ART_AND_DESIGN     4.5   \n",
       "4              Pixel Draw - Number Art Coloring Book  ART_AND_DESIGN     4.3   \n",
       "\n",
       "  Reviews  Size     Installs  Type Price Content Rating  \\\n",
       "0     159   19M      10,000+  Free     0       Everyone   \n",
       "1     967   14M     500,000+  Free     0       Everyone   \n",
       "2   87510  8.7M   5,000,000+  Free     0       Everyone   \n",
       "3  215644   25M  50,000,000+  Free     0           Teen   \n",
       "4     967  2.8M     100,000+  Free     0       Everyone   \n",
       "\n",
       "                      Genres      Last Updated         Current Ver  \\\n",
       "0               Art & Design   January 7, 2018               1.0.0   \n",
       "1  Art & Design;Pretend Play  January 15, 2018               2.0.0   \n",
       "2               Art & Design    August 1, 2018               1.2.4   \n",
       "3               Art & Design      June 8, 2018  Varies with device   \n",
       "4    Art & Design;Creativity     June 20, 2018                 1.1   \n",
       "\n",
       "    Android Ver  \n",
       "0  4.0.3 and up  \n",
       "1  4.0.3 and up  \n",
       "2  4.0.3 and up  \n",
       "3    4.2 and up  \n",
       "4    4.4 and up  "
      ]
     },
     "execution_count": 263,
     "metadata": {},
     "output_type": "execute_result"
    }
   ],
   "source": [
    "data.head()"
   ]
  },
  {
   "cell_type": "markdown",
   "id": "f46cc0b7-6ac8-4713-b3d6-2c20cb27d968",
   "metadata": {},
   "source": [
    "##### Check for null values in the data. Get the number of null values for each column."
   ]
  },
  {
   "cell_type": "code",
   "execution_count": 264,
   "id": "d7e3bd89-1569-4708-8662-f44a8c1636b0",
   "metadata": {},
   "outputs": [
    {
     "name": "stdout",
     "output_type": "stream",
     "text": [
      "<class 'pandas.core.frame.DataFrame'>\n",
      "RangeIndex: 10841 entries, 0 to 10840\n",
      "Data columns (total 13 columns):\n",
      " #   Column          Non-Null Count  Dtype  \n",
      "---  ------          --------------  -----  \n",
      " 0   App             10841 non-null  object \n",
      " 1   Category        10841 non-null  object \n",
      " 2   Rating          9367 non-null   float64\n",
      " 3   Reviews         10841 non-null  object \n",
      " 4   Size            10841 non-null  object \n",
      " 5   Installs        10841 non-null  object \n",
      " 6   Type            10840 non-null  object \n",
      " 7   Price           10841 non-null  object \n",
      " 8   Content Rating  10840 non-null  object \n",
      " 9   Genres          10841 non-null  object \n",
      " 10  Last Updated    10841 non-null  object \n",
      " 11  Current Ver     10833 non-null  object \n",
      " 12  Android Ver     10838 non-null  object \n",
      "dtypes: float64(1), object(12)\n",
      "memory usage: 1.1+ MB\n"
     ]
    }
   ],
   "source": [
    "data.info()"
   ]
  },
  {
   "cell_type": "code",
   "execution_count": 265,
   "id": "79c83c7d-06bb-4ceb-adf4-157cbe15bd7d",
   "metadata": {},
   "outputs": [
    {
     "data": {
      "text/plain": [
       "App               False\n",
       "Category          False\n",
       "Rating             True\n",
       "Reviews           False\n",
       "Size              False\n",
       "Installs          False\n",
       "Type               True\n",
       "Price             False\n",
       "Content Rating     True\n",
       "Genres            False\n",
       "Last Updated      False\n",
       "Current Ver        True\n",
       "Android Ver        True\n",
       "dtype: bool"
      ]
     },
     "execution_count": 265,
     "metadata": {},
     "output_type": "execute_result"
    }
   ],
   "source": [
    "## To check if there are any null values in each column/field\n",
    "data.isnull().any()"
   ]
  },
  {
   "cell_type": "code",
   "execution_count": 266,
   "id": "da5a2fbb-8505-4066-ad60-4ee649d6e59d",
   "metadata": {},
   "outputs": [
    {
     "data": {
      "text/plain": [
       "App                  0\n",
       "Category             0\n",
       "Rating            1474\n",
       "Reviews              0\n",
       "Size                 0\n",
       "Installs             0\n",
       "Type                 1\n",
       "Price                0\n",
       "Content Rating       1\n",
       "Genres               0\n",
       "Last Updated         0\n",
       "Current Ver          8\n",
       "Android Ver          3\n",
       "dtype: int64"
      ]
     },
     "execution_count": 266,
     "metadata": {},
     "output_type": "execute_result"
    }
   ],
   "source": [
    "## If there are and how many of them are null\n",
    "data.isnull().sum()"
   ]
  },
  {
   "cell_type": "markdown",
   "id": "d5cabe56-b6eb-4932-9e67-6095da2d3df6",
   "metadata": {},
   "source": [
    "##### Drop records with nulls in any of the columns. "
   ]
  },
  {
   "cell_type": "code",
   "execution_count": 267,
   "id": "b1616dba-42c7-4d12-8e45-e03b9ad19a78",
   "metadata": {},
   "outputs": [],
   "source": [
    "data = data.dropna()"
   ]
  },
  {
   "cell_type": "code",
   "execution_count": 268,
   "id": "ba65ffc0-e030-4770-bdbf-6c6893be3327",
   "metadata": {},
   "outputs": [
    {
     "data": {
      "text/plain": [
       "App               False\n",
       "Category          False\n",
       "Rating            False\n",
       "Reviews           False\n",
       "Size              False\n",
       "Installs          False\n",
       "Type              False\n",
       "Price             False\n",
       "Content Rating    False\n",
       "Genres            False\n",
       "Last Updated      False\n",
       "Current Ver       False\n",
       "Android Ver       False\n",
       "dtype: bool"
      ]
     },
     "execution_count": 268,
     "metadata": {},
     "output_type": "execute_result"
    }
   ],
   "source": [
    "data.isnull().any()"
   ]
  },
  {
   "cell_type": "markdown",
   "id": "8b9ed290-e4c2-48ef-96bf-fbb1b8e4d346",
   "metadata": {},
   "source": [
    "##### 4(i) Size column has sizes in Kb as well as Mb. To analyze, you’ll need to convert these to numeric.\n",
    "\n",
    "##### Extract the numeric value from the column\n",
    "\n",
    "##### Multiply the value by 1,000, if size is mentioned in Mb"
   ]
  },
  {
   "cell_type": "code",
   "execution_count": 269,
   "id": "477a165d-1325-4d9b-ad2a-6ea1d4ba8d49",
   "metadata": {},
   "outputs": [],
   "source": [
    "data[\"Size\"]  = [\n",
    "    float(i.split('M')[0])  # Convert the part before 'M' to a float\n",
    "    if 'M' in i             # Check if 'M' is in the string\n",
    "    else float(0)           # Otherwise, use 0.0 as the value\n",
    "    for i in data[\"Size\"]   # Iterate over each element in data[\"Size\"]\n",
    "]\n",
    "\n",
    "data[\"Size\"] = 1000 * data[\"Size\"] #Convert all the size values in to Kb\n"
   ]
  },
  {
   "cell_type": "code",
   "execution_count": 270,
   "id": "392508c4-e9fc-432e-b868-14457142105f",
   "metadata": {},
   "outputs": [
    {
     "data": {
      "text/html": [
       "<div>\n",
       "<style scoped>\n",
       "    .dataframe tbody tr th:only-of-type {\n",
       "        vertical-align: middle;\n",
       "    }\n",
       "\n",
       "    .dataframe tbody tr th {\n",
       "        vertical-align: top;\n",
       "    }\n",
       "\n",
       "    .dataframe thead th {\n",
       "        text-align: right;\n",
       "    }\n",
       "</style>\n",
       "<table border=\"1\" class=\"dataframe\">\n",
       "  <thead>\n",
       "    <tr style=\"text-align: right;\">\n",
       "      <th></th>\n",
       "      <th>App</th>\n",
       "      <th>Category</th>\n",
       "      <th>Rating</th>\n",
       "      <th>Reviews</th>\n",
       "      <th>Size</th>\n",
       "      <th>Installs</th>\n",
       "      <th>Type</th>\n",
       "      <th>Price</th>\n",
       "      <th>Content Rating</th>\n",
       "      <th>Genres</th>\n",
       "      <th>Last Updated</th>\n",
       "      <th>Current Ver</th>\n",
       "      <th>Android Ver</th>\n",
       "    </tr>\n",
       "  </thead>\n",
       "  <tbody>\n",
       "    <tr>\n",
       "      <th>0</th>\n",
       "      <td>Photo Editor &amp; Candy Camera &amp; Grid &amp; ScrapBook</td>\n",
       "      <td>ART_AND_DESIGN</td>\n",
       "      <td>4.1</td>\n",
       "      <td>159</td>\n",
       "      <td>19000.0</td>\n",
       "      <td>10,000+</td>\n",
       "      <td>Free</td>\n",
       "      <td>0</td>\n",
       "      <td>Everyone</td>\n",
       "      <td>Art &amp; Design</td>\n",
       "      <td>January 7, 2018</td>\n",
       "      <td>1.0.0</td>\n",
       "      <td>4.0.3 and up</td>\n",
       "    </tr>\n",
       "    <tr>\n",
       "      <th>1</th>\n",
       "      <td>Coloring book moana</td>\n",
       "      <td>ART_AND_DESIGN</td>\n",
       "      <td>3.9</td>\n",
       "      <td>967</td>\n",
       "      <td>14000.0</td>\n",
       "      <td>500,000+</td>\n",
       "      <td>Free</td>\n",
       "      <td>0</td>\n",
       "      <td>Everyone</td>\n",
       "      <td>Art &amp; Design;Pretend Play</td>\n",
       "      <td>January 15, 2018</td>\n",
       "      <td>2.0.0</td>\n",
       "      <td>4.0.3 and up</td>\n",
       "    </tr>\n",
       "    <tr>\n",
       "      <th>2</th>\n",
       "      <td>U Launcher Lite – FREE Live Cool Themes, Hide ...</td>\n",
       "      <td>ART_AND_DESIGN</td>\n",
       "      <td>4.7</td>\n",
       "      <td>87510</td>\n",
       "      <td>8700.0</td>\n",
       "      <td>5,000,000+</td>\n",
       "      <td>Free</td>\n",
       "      <td>0</td>\n",
       "      <td>Everyone</td>\n",
       "      <td>Art &amp; Design</td>\n",
       "      <td>August 1, 2018</td>\n",
       "      <td>1.2.4</td>\n",
       "      <td>4.0.3 and up</td>\n",
       "    </tr>\n",
       "    <tr>\n",
       "      <th>3</th>\n",
       "      <td>Sketch - Draw &amp; Paint</td>\n",
       "      <td>ART_AND_DESIGN</td>\n",
       "      <td>4.5</td>\n",
       "      <td>215644</td>\n",
       "      <td>25000.0</td>\n",
       "      <td>50,000,000+</td>\n",
       "      <td>Free</td>\n",
       "      <td>0</td>\n",
       "      <td>Teen</td>\n",
       "      <td>Art &amp; Design</td>\n",
       "      <td>June 8, 2018</td>\n",
       "      <td>Varies with device</td>\n",
       "      <td>4.2 and up</td>\n",
       "    </tr>\n",
       "    <tr>\n",
       "      <th>4</th>\n",
       "      <td>Pixel Draw - Number Art Coloring Book</td>\n",
       "      <td>ART_AND_DESIGN</td>\n",
       "      <td>4.3</td>\n",
       "      <td>967</td>\n",
       "      <td>2800.0</td>\n",
       "      <td>100,000+</td>\n",
       "      <td>Free</td>\n",
       "      <td>0</td>\n",
       "      <td>Everyone</td>\n",
       "      <td>Art &amp; Design;Creativity</td>\n",
       "      <td>June 20, 2018</td>\n",
       "      <td>1.1</td>\n",
       "      <td>4.4 and up</td>\n",
       "    </tr>\n",
       "  </tbody>\n",
       "</table>\n",
       "</div>"
      ],
      "text/plain": [
       "                                                 App        Category  Rating  \\\n",
       "0     Photo Editor & Candy Camera & Grid & ScrapBook  ART_AND_DESIGN     4.1   \n",
       "1                                Coloring book moana  ART_AND_DESIGN     3.9   \n",
       "2  U Launcher Lite – FREE Live Cool Themes, Hide ...  ART_AND_DESIGN     4.7   \n",
       "3                              Sketch - Draw & Paint  ART_AND_DESIGN     4.5   \n",
       "4              Pixel Draw - Number Art Coloring Book  ART_AND_DESIGN     4.3   \n",
       "\n",
       "  Reviews     Size     Installs  Type Price Content Rating  \\\n",
       "0     159  19000.0      10,000+  Free     0       Everyone   \n",
       "1     967  14000.0     500,000+  Free     0       Everyone   \n",
       "2   87510   8700.0   5,000,000+  Free     0       Everyone   \n",
       "3  215644  25000.0  50,000,000+  Free     0           Teen   \n",
       "4     967   2800.0     100,000+  Free     0       Everyone   \n",
       "\n",
       "                      Genres      Last Updated         Current Ver  \\\n",
       "0               Art & Design   January 7, 2018               1.0.0   \n",
       "1  Art & Design;Pretend Play  January 15, 2018               2.0.0   \n",
       "2               Art & Design    August 1, 2018               1.2.4   \n",
       "3               Art & Design      June 8, 2018  Varies with device   \n",
       "4    Art & Design;Creativity     June 20, 2018                 1.1   \n",
       "\n",
       "    Android Ver  \n",
       "0  4.0.3 and up  \n",
       "1  4.0.3 and up  \n",
       "2  4.0.3 and up  \n",
       "3    4.2 and up  \n",
       "4    4.4 and up  "
      ]
     },
     "execution_count": 270,
     "metadata": {},
     "output_type": "execute_result"
    }
   ],
   "source": [
    "data.head()"
   ]
  },
  {
   "cell_type": "markdown",
   "id": "7b12ccd6-8ad7-419f-b50c-8fed53a837e7",
   "metadata": {},
   "source": [
    "##### 4(ii) Reviews is a numeric field that is loaded as a string field. Convert it to numeric (int/float)."
   ]
  },
  {
   "cell_type": "code",
   "execution_count": 271,
   "id": "cd0e7518-4c25-4a1a-bf38-26748018103a",
   "metadata": {},
   "outputs": [],
   "source": [
    "data[\"Reviews\"] = data[\"Reviews\"].astype(float) # Using astype() to convert the data type to float"
   ]
  },
  {
   "cell_type": "code",
   "execution_count": 272,
   "id": "e2d58602-501d-4f0a-8b91-5a24544582c0",
   "metadata": {},
   "outputs": [
    {
     "name": "stdout",
     "output_type": "stream",
     "text": [
      "<class 'pandas.core.frame.DataFrame'>\n",
      "Int64Index: 9360 entries, 0 to 10840\n",
      "Data columns (total 13 columns):\n",
      " #   Column          Non-Null Count  Dtype  \n",
      "---  ------          --------------  -----  \n",
      " 0   App             9360 non-null   object \n",
      " 1   Category        9360 non-null   object \n",
      " 2   Rating          9360 non-null   float64\n",
      " 3   Reviews         9360 non-null   float64\n",
      " 4   Size            9360 non-null   float64\n",
      " 5   Installs        9360 non-null   object \n",
      " 6   Type            9360 non-null   object \n",
      " 7   Price           9360 non-null   object \n",
      " 8   Content Rating  9360 non-null   object \n",
      " 9   Genres          9360 non-null   object \n",
      " 10  Last Updated    9360 non-null   object \n",
      " 11  Current Ver     9360 non-null   object \n",
      " 12  Android Ver     9360 non-null   object \n",
      "dtypes: float64(3), object(10)\n",
      "memory usage: 1023.8+ KB\n"
     ]
    }
   ],
   "source": [
    "data.info()"
   ]
  },
  {
   "cell_type": "markdown",
   "id": "7a3f649e-37c0-4739-b6be-db043dd38eb9",
   "metadata": {},
   "source": [
    "##### 4(iii) Installs field is currently stored as string and has values like 1,000,000+. \n",
    "\n",
    "##### Treat 1,000,000+ as 1,000,000\n",
    "\n",
    "##### remove ‘+’, ‘,’ from the field, convert it to integer"
   ]
  },
  {
   "cell_type": "code",
   "execution_count": 273,
   "id": "fef5e729-571f-4125-90ac-38e8d19f83ed",
   "metadata": {},
   "outputs": [],
   "source": [
    "data[\"Installs\"]  = [\n",
    "    float(i.replace('+','').replace(',', ''))  # Replace the +,',' to no space in the Installs Column\n",
    "    if '+' in i or ',' in i           # Check if '+',\",\" is in the string\n",
    "    else float(0)           # Otherwise, use 0.0 as the value\n",
    "    for i in data[\"Installs\"]   # Iterate over each element in data[\"Size\"]\n",
    "]\n",
    "data[\"Installs\"] = data[\"Installs\"].astype(int)"
   ]
  },
  {
   "cell_type": "code",
   "execution_count": 274,
   "id": "db32349f-d367-4126-bc08-3ee2609b269e",
   "metadata": {},
   "outputs": [
    {
     "data": {
      "text/plain": [
       "(9360, 13)"
      ]
     },
     "execution_count": 274,
     "metadata": {},
     "output_type": "execute_result"
    }
   ],
   "source": [
    "data.shape"
   ]
  },
  {
   "cell_type": "code",
   "execution_count": 275,
   "id": "0435f06f-44f6-4b3f-9c7d-ec56ca470504",
   "metadata": {},
   "outputs": [
    {
     "name": "stdout",
     "output_type": "stream",
     "text": [
      "<class 'pandas.core.frame.DataFrame'>\n",
      "Int64Index: 9360 entries, 0 to 10840\n",
      "Data columns (total 13 columns):\n",
      " #   Column          Non-Null Count  Dtype  \n",
      "---  ------          --------------  -----  \n",
      " 0   App             9360 non-null   object \n",
      " 1   Category        9360 non-null   object \n",
      " 2   Rating          9360 non-null   float64\n",
      " 3   Reviews         9360 non-null   float64\n",
      " 4   Size            9360 non-null   float64\n",
      " 5   Installs        9360 non-null   int64  \n",
      " 6   Type            9360 non-null   object \n",
      " 7   Price           9360 non-null   object \n",
      " 8   Content Rating  9360 non-null   object \n",
      " 9   Genres          9360 non-null   object \n",
      " 10  Last Updated    9360 non-null   object \n",
      " 11  Current Ver     9360 non-null   object \n",
      " 12  Android Ver     9360 non-null   object \n",
      "dtypes: float64(3), int64(1), object(9)\n",
      "memory usage: 1023.8+ KB\n"
     ]
    }
   ],
   "source": [
    "data.info()"
   ]
  },
  {
   "cell_type": "markdown",
   "id": "4bab172f-0882-43a5-af3d-d66d8c55ca80",
   "metadata": {},
   "source": [
    "##### Price field is a string and has $ symbol. Remove ‘$’ sign, and convert it to numeric."
   ]
  },
  {
   "cell_type": "code",
   "execution_count": 276,
   "id": "d07f9bfa-cbb9-45c1-9404-0d94c6595342",
   "metadata": {},
   "outputs": [],
   "source": [
    "data[\"Price\"]  = [\n",
    "    float(i.replace('$',''))  # Replace the '$' to no space in the Price Column\n",
    "    if '$' in i           # Check if '$',\",\" is in the string\n",
    "    else float(0)           # Otherwise, use 0.0 as the value\n",
    "    for i in data[\"Price\"]   # Iterate over each element in data[\"Size\"]\n",
    "]\n",
    "data[\"Price\"] = data[\"Price\"].astype(int)"
   ]
  },
  {
   "cell_type": "code",
   "execution_count": 277,
   "id": "5283ada6-a312-406b-8437-67c56a24538b",
   "metadata": {},
   "outputs": [
    {
     "data": {
      "text/plain": [
       "(9360, 13)"
      ]
     },
     "execution_count": 277,
     "metadata": {},
     "output_type": "execute_result"
    }
   ],
   "source": [
    "data.shape"
   ]
  },
  {
   "cell_type": "markdown",
   "id": "1888f0eb-7d7d-4b01-a844-4f195327b1dd",
   "metadata": {},
   "source": [
    "##### 5(i) Average rating should be between 1 and 5 as only these values are allowed on the play store. Drop the rows that have a value outside this range."
   ]
  },
  {
   "cell_type": "code",
   "execution_count": 278,
   "id": "2ffd7465-a59f-41b9-905b-cc2b4160914a",
   "metadata": {},
   "outputs": [],
   "source": [
    "data.drop(data[(data['Reviews'] < 1) & (data['Reviews'] > 5 )].index, inplace = True)"
   ]
  },
  {
   "cell_type": "code",
   "execution_count": 279,
   "id": "03f810ba-576f-4064-ab74-fef867f96be3",
   "metadata": {},
   "outputs": [
    {
     "data": {
      "text/plain": [
       "(9360, 13)"
      ]
     },
     "execution_count": 279,
     "metadata": {},
     "output_type": "execute_result"
    }
   ],
   "source": [
    "data.shape"
   ]
  },
  {
   "cell_type": "code",
   "execution_count": 280,
   "id": "50fa96b9-6a3b-4a70-a00d-89ec2bd2fe37",
   "metadata": {},
   "outputs": [
    {
     "data": {
      "text/plain": [
       "array([1.59000e+02, 9.67000e+02, 8.75100e+04, ..., 6.03000e+02,\n",
       "       1.19500e+03, 3.98307e+05])"
      ]
     },
     "execution_count": 280,
     "metadata": {},
     "output_type": "execute_result"
    }
   ],
   "source": [
    "data.Reviews.unique()"
   ]
  },
  {
   "cell_type": "markdown",
   "id": "dfe61fe8-f4ad-4c99-81dc-43b046789f3e",
   "metadata": {},
   "source": [
    "##### Reviews should not be more than installs as only those who installed can review the app. If there are any such records, drop them."
   ]
  },
  {
   "cell_type": "code",
   "execution_count": 281,
   "id": "cbe38192-6e28-4c4b-83d1-16caa5a9d4ae",
   "metadata": {},
   "outputs": [],
   "source": [
    "data = data[(data[\"Reviews\"] <= data['Installs'])]\n",
    "data = data.reset_index(drop=True)\n"
   ]
  },
  {
   "cell_type": "code",
   "execution_count": 282,
   "id": "f1f1738a-5102-4119-a5fa-0ea8b3bf4aed",
   "metadata": {},
   "outputs": [
    {
     "data": {
      "text/plain": [
       "(9353, 13)"
      ]
     },
     "execution_count": 282,
     "metadata": {},
     "output_type": "execute_result"
    }
   ],
   "source": [
    "data.shape"
   ]
  },
  {
   "cell_type": "markdown",
   "id": "10698f12-2f8c-41d7-9bea-f5d238502fc1",
   "metadata": {},
   "source": [
    "##### For free apps (type = “Free”), the price should not be >0. Drop any such rows."
   ]
  },
  {
   "cell_type": "code",
   "execution_count": 283,
   "id": "7d5ccebb-184c-4608-b287-a17fe193bb85",
   "metadata": {},
   "outputs": [],
   "source": [
    "data.drop(data[(data['Type'] =='Free') & (data['Price'] > 0 )].index, inplace = True)"
   ]
  },
  {
   "cell_type": "code",
   "execution_count": 284,
   "id": "a9f52326-a5b5-4fb4-9f23-149c1ca62f79",
   "metadata": {},
   "outputs": [
    {
     "data": {
      "text/plain": [
       "(9353, 13)"
      ]
     },
     "execution_count": 284,
     "metadata": {},
     "output_type": "execute_result"
    }
   ],
   "source": [
    "data.shape"
   ]
  },
  {
   "cell_type": "code",
   "execution_count": 285,
   "id": "f961b985-4054-48b9-9173-6ba136c62d5c",
   "metadata": {},
   "outputs": [
    {
     "data": {
      "text/plain": [
       "array([  0,   4,   3,   6,   7,   5,   2,   1,   9,  10,  24,  11,  79,\n",
       "        16,  14,  29,  12,  19,  15,  33,  39,   8, 399,  17, 400, 299,\n",
       "       379,  37,  18, 389,  13])"
      ]
     },
     "execution_count": 285,
     "metadata": {},
     "output_type": "execute_result"
    }
   ],
   "source": [
    "data.Price.unique()"
   ]
  },
  {
   "cell_type": "markdown",
   "id": "736f65cf-a4ce-446d-bf87-b5f35a2564d1",
   "metadata": {},
   "source": [
    "##### Univariate Analysis"
   ]
  },
  {
   "cell_type": "code",
   "execution_count": 286,
   "id": "50446757-d9f0-48c8-ba37-a33e8eecf7d3",
   "metadata": {},
   "outputs": [],
   "source": [
    "import matplotlib.pyplot as plt\n",
    "import seaborn as sns\n",
    "\n",
    "def plot_boxplot(data, column, title=None, xlabel=None, ylabel=None):\n",
    "    \"\"\"\n",
    "    Plots a box plot for the specified column in the given DataFrame.\n",
    "    \n",
    "    Parameters:\n",
    "    data (DataFrame): The DataFrame containing the data.\n",
    "    column (str): The column name for which the box plot is to be generated.\n",
    "    title (str, optional): Title of the plot.\n",
    "    xlabel (str, optional): Label for the x-axis.\n",
    "    ylabel (str, optional): Label for the y-axis.\n",
    "    \"\"\"\n",
    "    \n",
    "    # Create the box plot using seaborn\n",
    "    plt.figure(figsize=(12, 8))\n",
    "    sns.boxplot(x=data[column])\n",
    "    \n",
    "    # Set the title and labels if provided\n",
    "    if title:\n",
    "        plt.title(title, fontsize=16)\n",
    "    if xlabel:\n",
    "        plt.xlabel(xlabel, fontsize=14)\n",
    "    if ylabel:\n",
    "        plt.ylabel(ylabel, fontsize=14)\n",
    "    else:\n",
    "        plt.ylabel(column, fontsize=14)\n",
    "\n",
    "    # Show the plot\n",
    "    plt.show()\n",
    "    \n",
    "    skew = data[column].skew()\n",
    "    Q1 = data[column].quantile(0.25)\n",
    "    Q3 = data[column].quantile(0.75)\n",
    "    IQR = Q3 - Q1\n",
    "    total_outlier_num = ((data[column] < (Q1 - 1.5 * IQR)) | (data[column] > (Q3 + 1.5 * IQR))).sum()\n",
    "    print(f'Mean {column.capitalize()} = {data[column].mean()}')\n",
    "    print(f'Median {column.capitalize()} = {data[column].median()}')\n",
    "    print(f'Skewness of {column}: {skew}.')\n",
    "    print(f'Total number of outliers in {column} distribution: {total_outlier_num}.') "
   ]
  },
  {
   "cell_type": "markdown",
   "id": "24637fb1-b084-4ce3-9713-0c55aabd32d6",
   "metadata": {},
   "source": [
    "##### Box Plot for Price - are there any outliers with respect to price or unsual to other apps"
   ]
  },
  {
   "cell_type": "code",
   "execution_count": 287,
   "id": "ce91e4fb-34d3-42bb-810b-bc6ecfe9813e",
   "metadata": {},
   "outputs": [
    {
     "data": {
      "image/png": "[encoded data removed]",
      "text/plain": [
       "<Figure size 864x576 with 1 Axes>"
      ]
     },
     "metadata": {},
     "output_type": "display_data"
    },
    {
     "name": "stdout",
     "output_type": "stream",
     "text": [
      "Mean Price = 0.8997113225702983\n",
      "Median Price = 0.0\n",
      "Skewness of Price: 24.45723341591901.\n",
      "Total number of outliers in Price distribution: 537.\n"
     ]
    }
   ],
   "source": [
    "plot_boxplot(data, 'Price', title='Box Plot of Price')"
   ]
  },
  {
   "cell_type": "markdown",
   "id": "84992884-61c0-4628-ba09-798030f970c7",
   "metadata": {},
   "source": [
    "##### Boxplot for Reviews - Are there any apps with very high number of reviews? Do the values seem right?"
   ]
  },
  {
   "cell_type": "code",
   "execution_count": 288,
   "id": "838f88c7-ff20-494e-af33-55751cd4fcd0",
   "metadata": {},
   "outputs": [
    {
     "data": {
      "image/png": "[encoded data removed]",
      "text/plain": [
       "<Figure size 864x576 with 1 Axes>"
      ]
     },
     "metadata": {},
     "output_type": "display_data"
    },
    {
     "name": "stdout",
     "output_type": "stream",
     "text": [
      "Mean Reviews = 514760.5758580135\n",
      "Median Reviews = 5967.0\n",
      "Skewness of Reviews: 15.297403520174901.\n",
      "Total number of outliers in Reviews distribution: 1634.\n"
     ]
    }
   ],
   "source": [
    "plot_boxplot(data, 'Reviews', title='Box Plot of Reviews')"
   ]
  },
  {
   "cell_type": "code",
   "execution_count": null,
   "id": "f0682341-51f6-43d2-9945-ae4537180189",
   "metadata": {},
   "outputs": [],
   "source": []
  },
  {
   "cell_type": "code",
   "execution_count": 289,
   "id": "1412ad88-5fa8-4753-9c28-e7be0eaf6ce3",
   "metadata": {},
   "outputs": [
    {
     "data": {
      "image/png": "[encoded data removed]",
      "text/plain": [
       "<Figure size 864x576 with 1 Axes>"
      ]
     },
     "metadata": {},
     "output_type": "display_data"
    },
    {
     "name": "stdout",
     "output_type": "stream",
     "text": [
      "Mean Rating = 4.191254143055704\n",
      "Median Rating = 4.3\n",
      "Skewness of Rating: -1.8535011679813707.\n",
      "Total number of outliers in Rating distribution: 502.\n"
     ]
    }
   ],
   "source": [
    "plot_boxplot(data, 'Rating', title='Box Plot of Rating')"
   ]
  },
  {
   "cell_type": "markdown",
   "id": "569d576d-b969-47c0-a81a-5b6d4bd4fc37",
   "metadata": {},
   "source": [
    "##### Histogram for Rating\n",
    "\n",
    "##### How are the ratings distributed? Is it more toward higher ratings?"
   ]
  },
  {
   "cell_type": "code",
   "execution_count": 290,
   "id": "8bae4a6b-0874-4d59-9007-3ae4ff671b4e",
   "metadata": {},
   "outputs": [],
   "source": [
    "def plot_histogram(data, column, bins=10, title=None, xlabel=None, ylabel=None, kde=False):\n",
    "    \"\"\"\n",
    "    Plots a histogram for the specified column in the given DataFrame.\n",
    "    \n",
    "    Parameters:\n",
    "    data (DataFrame): The DataFrame containing the data.\n",
    "    column (str): The column name for which the histogram is to be generated.\n",
    "    bins (int, optional): Number of bins for the histogram. Default is 10.\n",
    "    title (str, optional): Title of the plot.\n",
    "    xlabel (str, optional): Label for the x-axis.\n",
    "    ylabel (str, optional): Label for the y-axis.\n",
    "    kde (bool, optional): Whether to plot a kernel density estimate (KDE) line. Default is False.\n",
    "    \"\"\"\n",
    "    \n",
    "    # Create the histogram using seaborn\n",
    "    plt.figure(figsize=(10, 6))\n",
    "    sns.histplot(data[column], bins=bins, kde=kde)\n",
    "    \n",
    "    # Set the title and labels if provided\n",
    "    if title:\n",
    "        plt.title(title, fontsize=16)\n",
    "    if xlabel:\n",
    "        plt.xlabel(xlabel, fontsize=14)\n",
    "    else:\n",
    "        plt.xlabel(column, fontsize=14)\n",
    "    if ylabel:\n",
    "        plt.ylabel(ylabel, fontsize=14)\n",
    "    else:\n",
    "        plt.ylabel('Frequency', fontsize=14)\n",
    "    \n",
    "    # Show the plot\n",
    "    plt.show()"
   ]
  },
  {
   "cell_type": "code",
   "execution_count": 291,
   "id": "ef12c4b0-bd99-47bf-b257-747f0d2763d7",
   "metadata": {},
   "outputs": [
    {
     "data": {
      "image/png": "[encoded data removed]",
      "text/plain": [
       "<Figure size 720x432 with 1 Axes>"
      ]
     },
     "metadata": {},
     "output_type": "display_data"
    }
   ],
   "source": [
    "plot_histogram(data, 'Rating', bins=20, title='Histogram of Rating', xlabel='Number of Rating', kde=True)"
   ]
  },
  {
   "cell_type": "markdown",
   "id": "5a95903b-3c58-4325-ada2-b4565a569495",
   "metadata": {},
   "source": [
    "Yes, the Ratings are more distributed towards the higher rating\n"
   ]
  },
  {
   "cell_type": "code",
   "execution_count": 292,
   "id": "d63e3e84-476c-49b4-818a-64ae77935bf5",
   "metadata": {},
   "outputs": [
    {
     "data": {
      "image/png": "[encoded data removed]",
      "text/plain": [
       "<Figure size 720x432 with 1 Axes>"
      ]
     },
     "metadata": {},
     "output_type": "display_data"
    }
   ],
   "source": [
    "plot_histogram(data, 'Size', bins=20, title='Histogram of Size', xlabel='Size of the app', kde=True)"
   ]
  },
  {
   "cell_type": "markdown",
   "id": "4409a8cb-dc75-4cbb-b1c7-122d6f7f90ee",
   "metadata": {},
   "source": [
    "It is evident that the lesser the size of the app and higer the distribution is"
   ]
  },
  {
   "cell_type": "markdown",
   "id": "9b638e96-acc2-4e4c-b721-6be475d3ef6d",
   "metadata": {},
   "source": [
    "##### Price: From the box plot, it seems like there are some apps with very high price. A price of $200 for an application on the Play Store is very high and suspicious!Check out the records with very high priceIs 200 indeed a high price?Drop these as most seem to be junk apps"
   ]
  },
  {
   "cell_type": "code",
   "execution_count": 293,
   "id": "42aba755-a29d-4fdb-856f-6c00dae2c259",
   "metadata": {},
   "outputs": [],
   "source": [
    "High_price = data.apply(lambda x : True\n",
    "            if x['Price'] > 200 else False, axis = 1) "
   ]
  },
  {
   "cell_type": "code",
   "execution_count": 294,
   "id": "5d69b4c1-e905-4579-873c-a69c8eeaf51f",
   "metadata": {},
   "outputs": [
    {
     "data": {
      "text/plain": [
       "15"
      ]
     },
     "execution_count": 294,
     "metadata": {},
     "output_type": "execute_result"
    }
   ],
   "source": [
    "high_price_app_count = len(High_price[High_price == True].index) \n",
    "high_price_app_count"
   ]
  },
  {
   "cell_type": "markdown",
   "id": "39d1f51b-5e9e-479c-b57c-be9a2c835812",
   "metadata": {},
   "source": [
    "There are 15 apps with price greater than $200. Dropping these records\n"
   ]
  },
  {
   "cell_type": "code",
   "execution_count": 295,
   "id": "b9ab4272-78b4-479a-84a0-31582d273751",
   "metadata": {},
   "outputs": [],
   "source": [
    "data.drop(data[data['Price'] > 200].index, inplace = True)"
   ]
  },
  {
   "cell_type": "code",
   "execution_count": 296,
   "id": "c34c9409-5a7b-4978-80f7-bd939c7e86ed",
   "metadata": {},
   "outputs": [
    {
     "data": {
      "text/plain": [
       "(9338, 13)"
      ]
     },
     "execution_count": 296,
     "metadata": {},
     "output_type": "execute_result"
    }
   ],
   "source": [
    "data.shape"
   ]
  },
  {
   "cell_type": "markdown",
   "id": "5e0871ec-a8db-4506-b1c2-4b9587e8643c",
   "metadata": {},
   "source": [
    "##### 6(ii) Reviews: Very few apps have very high number of reviews. These are all star apps that don’t help with the analysis and, in fact, will skew it. Drop records having more than 2 million reviews."
   ]
  },
  {
   "cell_type": "code",
   "execution_count": 297,
   "id": "61877d4a-7b21-46e7-ac2a-ed47003a38e0",
   "metadata": {},
   "outputs": [],
   "source": [
    "data.drop(data[data['Reviews'] > 2000000].index, inplace = True)"
   ]
  },
  {
   "cell_type": "markdown",
   "id": "0c95fba4-d1e8-4558-b099-532524b31c2c",
   "metadata": {},
   "source": [
    "#####  Installs:  There seems to be some outliers in this field too. Apps having very high number of installs should be dropped from the analysis.Find out the different percentiles – 10, 25, 50, 70, 90, 95, 99. Decide a threshold as cutoff for outlier and drop records having values more than that"
   ]
  },
  {
   "cell_type": "code",
   "execution_count": 298,
   "id": "34f834c5-b7a6-4eb9-8bde-158016cbf11b",
   "metadata": {},
   "outputs": [],
   "source": [
    "quantile_install = data['Installs'].quantile([.1, .25, .5, .70, .90, .95, .99]) "
   ]
  },
  {
   "cell_type": "code",
   "execution_count": 299,
   "id": "ff16deb1-05f0-418b-83f4-4fffb6f17687",
   "metadata": {},
   "outputs": [
    {
     "data": {
      "text/plain": [
       "0.10         1000.0\n",
       "0.25        10000.0\n",
       "0.50       500000.0\n",
       "0.70      1000000.0\n",
       "0.90     10000000.0\n",
       "0.95     10000000.0\n",
       "0.99    100000000.0\n",
       "Name: Installs, dtype: float64"
      ]
     },
     "execution_count": 299,
     "metadata": {},
     "output_type": "execute_result"
    }
   ],
   "source": [
    "quantile_install"
   ]
  },
  {
   "cell_type": "code",
   "execution_count": 300,
   "id": "f40db619-949d-454f-944a-eb18cdb18c7d",
   "metadata": {},
   "outputs": [],
   "source": [
    "# dropping more than 10000000 Installs value\n",
    "data.drop(data[data['Installs'] > 10000000].index, inplace = True)"
   ]
  },
  {
   "cell_type": "code",
   "execution_count": 301,
   "id": "700f999b-6e07-44ff-b486-bad88aaf5ae2",
   "metadata": {},
   "outputs": [
    {
     "data": {
      "text/plain": [
       "(8496, 13)"
      ]
     },
     "execution_count": 301,
     "metadata": {},
     "output_type": "execute_result"
    }
   ],
   "source": [
    "data.shape"
   ]
  },
  {
   "cell_type": "code",
   "execution_count": 302,
   "id": "bce71450-b3bc-4b17-ab5b-f212a610cc2b",
   "metadata": {},
   "outputs": [],
   "source": [
    "import matplotlib.pyplot as plt\n",
    "import seaborn as sns\n",
    "\n",
    "def plot_scatter(data, x_col, y_col, title=None, xlabel=None, ylabel=None, color=None, marker='o', alpha=0.7):\n",
    "    \"\"\"\n",
    "    Plots a scatter plot for the specified columns in the given DataFrame.\n",
    "    \n",
    "    Parameters:\n",
    "    data (DataFrame): The DataFrame containing the data.\n",
    "    x_col (str): The column name for the x-axis.\n",
    "    y_col (str): The column name for the y-axis.\n",
    "    title (str, optional): Title of the plot.\n",
    "    xlabel (str, optional): Label for the x-axis.\n",
    "    ylabel (str, optional): Label for the y-axis.\n",
    "    color (str, optional): Color of the scatter points.\n",
    "    marker (str, optional): Marker style for scatter points. Default is 'o'.\n",
    "    alpha (float, optional): Transparency level of the scatter points. Default is 0.7.\n",
    "    \"\"\"\n",
    "    \n",
    "    # Create the scatter plot using seaborn\n",
    "    plt.figure(figsize=(10, 6))\n",
    "    sns.scatterplot(data=data, x=x_col, y=y_col, color=color, marker=marker, alpha=alpha)\n",
    "    \n",
    "    # Set the title and labels if provided\n",
    "    if title:\n",
    "        plt.title(title, fontsize=16)\n",
    "    if xlabel:\n",
    "        plt.xlabel(xlabel, fontsize=14)\n",
    "    else:\n",
    "        plt.xlabel(x_col, fontsize=14)\n",
    "    if ylabel:\n",
    "        plt.ylabel(ylabel, fontsize=14)\n",
    "    else:\n",
    "        plt.ylabel(y_col, fontsize=14)\n",
    "    \n",
    "    # Show the plot\n",
    "    plt.show()"
   ]
  },
  {
   "cell_type": "markdown",
   "id": "d409ba0a-cd2c-4dee-baa6-ad57daeb520a",
   "metadata": {},
   "source": [
    "##### Bivariate analysis"
   ]
  },
  {
   "cell_type": "markdown",
   "id": "ffa5de3f-979e-4ff5-bba3-50994bc655bf",
   "metadata": {},
   "source": [
    "##### Make scatter plot/joinplot for Rating vs. Price"
   ]
  },
  {
   "cell_type": "code",
   "execution_count": 303,
   "id": "8ddf9074-c887-48a7-8d6b-9a80aee4eac3",
   "metadata": {},
   "outputs": [
    {
     "data": {
      "image/png": "[encoded data removed]",
      "text/plain": [
       "<Figure size 720x432 with 1 Axes>"
      ]
     },
     "metadata": {},
     "output_type": "display_data"
    }
   ],
   "source": [
    "# Assuming 'data' is your DataFrame and you want to plot 'Feature1' vs 'Feature2'\n",
    "\n",
    "plot_scatter(data, 'Rating', 'Price', title='Scatter Plot of Rating Vs Price', xlabel='Rating', ylabel='Price', color='blue')"
   ]
  },
  {
   "cell_type": "markdown",
   "id": "6923e537-1a76-442a-8fce-12d9c6b7021c",
   "metadata": {},
   "source": [
    "From the scatter plot, we can make out that ratings are higher for the apps with higher price"
   ]
  },
  {
   "cell_type": "markdown",
   "id": "885aea8d-8ac0-48e9-b0ea-9a91ff355a97",
   "metadata": {},
   "source": [
    "##### Make scatter plot/joinplot for Rating vs. Size"
   ]
  },
  {
   "cell_type": "code",
   "execution_count": 304,
   "id": "a5196fad-b70d-4e36-99b2-dd243e4ca157",
   "metadata": {},
   "outputs": [
    {
     "data": {
      "image/png": "[encoded data removed]",
      "text/plain": [
       "<Figure size 720x432 with 1 Axes>"
      ]
     },
     "metadata": {},
     "output_type": "display_data"
    }
   ],
   "source": [
    "# Assuming 'data' is your DataFrame and you want to plot 'Feature1' vs 'Feature2'\n",
    "plot_scatter(data, 'Rating', 'Size', title='Scatter Plot of Rating Vs Size', xlabel='Rating', ylabel='Size', color='blue')"
   ]
  },
  {
   "cell_type": "markdown",
   "id": "01d32904-ddca-4750-847e-4ea46ceaeba8",
   "metadata": {},
   "source": [
    "Positive rating are indeed for the large apps"
   ]
  },
  {
   "cell_type": "markdown",
   "id": "03649c45-1f86-4fb9-8d09-9403b112bca4",
   "metadata": {},
   "source": [
    "##### Make scatter plot/joinplot for Rating vs. Reviews"
   ]
  },
  {
   "cell_type": "code",
   "execution_count": 305,
   "id": "0bed04db-26cc-4869-9590-298dfbe137ca",
   "metadata": {},
   "outputs": [
    {
     "data": {
      "image/png": "[encoded data removed]",
      "text/plain": [
       "<Figure size 720x432 with 1 Axes>"
      ]
     },
     "metadata": {},
     "output_type": "display_data"
    }
   ],
   "source": [
    "plot_scatter(data, 'Rating', 'Reviews', title='Scatter Plot of Rating Vs Reviews', xlabel='Rating', ylabel='Reviews', color='blue')"
   ]
  },
  {
   "cell_type": "markdown",
   "id": "cb4d953c-cec3-4258-935e-53def4c76d44",
   "metadata": {},
   "source": [
    "Most the reviews for the app are coming from the high rated apps\n"
   ]
  },
  {
   "cell_type": "markdown",
   "id": "db6cafe9-3cd2-4d7d-9ba9-39c6b3be3a4b",
   "metadata": {},
   "source": [
    "##### Make boxplot for Rating vs. Content Rating"
   ]
  },
  {
   "cell_type": "code",
   "execution_count": 306,
   "id": "e10b7416-ef0e-4aee-9065-616cbb3e77a8",
   "metadata": {},
   "outputs": [],
   "source": [
    "def multi_plot_boxplot(data, x_col, y_col, title=None, xlabel=None, ylabel=None, figsize=(12, 8)):\n",
    "    \"\"\"\n",
    "    Plots a box plot with labels for both x and y axes.\n",
    "    \n",
    "    Parameters:\n",
    "    data (DataFrame): The DataFrame containing the data.\n",
    "    x_col (str): The column name for the x-axis (categorical variable).\n",
    "    y_col (str): The column name for the y-axis (numeric variable).\n",
    "    title (str, optional): Title of the plot.\n",
    "    xlabel (str, optional): Label for the x-axis.\n",
    "    ylabel (str, optional): Label for the y-axis.\n",
    "    figsize (tuple, optional): Size of the figure. Default is (12, 8).\n",
    "    \"\"\"\n",
    "    \n",
    "    plt.figure(figsize=figsize)\n",
    "    \n",
    "    # Create the box plot\n",
    "    sns.boxplot(data=data, x=x_col, y=y_col)\n",
    "    \n",
    "    # Set the title and labels if provided\n",
    "    if title:\n",
    "        plt.title(title, fontsize=16)\n",
    "    if xlabel:\n",
    "        plt.xlabel(xlabel, fontsize=14)\n",
    "    else:\n",
    "        plt.xlabel(x_col, fontsize=14)\n",
    "    if ylabel:\n",
    "        plt.ylabel(ylabel, fontsize=14)\n",
    "    else:\n",
    "        plt.ylabel(y_col, fontsize=14)\n",
    "    \n",
    "    # Show the plot\n",
    "    plt.show()\n"
   ]
  },
  {
   "cell_type": "code",
   "execution_count": 307,
   "id": "98f58c81-aa52-4824-b44e-d275ca1e0ec6",
   "metadata": {},
   "outputs": [
    {
     "data": {
      "image/png": "[encoded data removed]",
      "text/plain": [
       "<Figure size 864x576 with 1 Axes>"
      ]
     },
     "metadata": {},
     "output_type": "display_data"
    }
   ],
   "source": [
    "multi_plot_boxplot(data, x_col='Rating',y_col='Content Rating', title='Box Plot of Rating and Rating Content', xlabel = 'rating',ylabel='Content Rating')"
   ]
  },
  {
   "cell_type": "markdown",
   "id": "0c36960c-7e10-43da-8adf-1c162590f609",
   "metadata": {},
   "source": [
    "Apps which are for everyone tend to have more lower rating when compared to other apps. Adults only 18+ has higher rating and almost more 3.5"
   ]
  },
  {
   "cell_type": "markdown",
   "id": "a3d0fc71-b00e-499c-8560-81aaae254e33",
   "metadata": {},
   "source": [
    "##### Make boxplot for Ratings vs. Category"
   ]
  },
  {
   "cell_type": "code",
   "execution_count": 308,
   "id": "3fff18a8-4a2a-4813-8967-39cce794892c",
   "metadata": {},
   "outputs": [
    {
     "data": {
      "image/png": "[encoded data removed]",
      "text/plain": [
       "<Figure size 864x576 with 1 Axes>"
      ]
     },
     "metadata": {},
     "output_type": "display_data"
    }
   ],
   "source": [
    "multi_plot_boxplot(data, x_col='Rating',y_col='Category', title='Box Plot of Rating and Category', xlabel = 'Rating',ylabel='Category')"
   ]
  },
  {
   "cell_type": "markdown",
   "id": "611c2e2f-dac7-478d-a736-9bebeeaa5807",
   "metadata": {},
   "source": [
    "Events Category has the best rating with more than 3.5 all over"
   ]
  },
  {
   "cell_type": "code",
   "execution_count": 309,
   "id": "1d1e5b78-11b7-4e14-a7aa-1e2e0713682e",
   "metadata": {},
   "outputs": [],
   "source": [
    "inp1 = data"
   ]
  },
  {
   "cell_type": "code",
   "execution_count": 310,
   "id": "811567d7-92ea-4c58-ab58-30e812914f23",
   "metadata": {},
   "outputs": [
    {
     "data": {
      "text/html": [
       "<div>\n",
       "<style scoped>\n",
       "    .dataframe tbody tr th:only-of-type {\n",
       "        vertical-align: middle;\n",
       "    }\n",
       "\n",
       "    .dataframe tbody tr th {\n",
       "        vertical-align: top;\n",
       "    }\n",
       "\n",
       "    .dataframe thead th {\n",
       "        text-align: right;\n",
       "    }\n",
       "</style>\n",
       "<table border=\"1\" class=\"dataframe\">\n",
       "  <thead>\n",
       "    <tr style=\"text-align: right;\">\n",
       "      <th></th>\n",
       "      <th>App</th>\n",
       "      <th>Category</th>\n",
       "      <th>Rating</th>\n",
       "      <th>Reviews</th>\n",
       "      <th>Size</th>\n",
       "      <th>Installs</th>\n",
       "      <th>Type</th>\n",
       "      <th>Price</th>\n",
       "      <th>Content Rating</th>\n",
       "      <th>Genres</th>\n",
       "      <th>Last Updated</th>\n",
       "      <th>Current Ver</th>\n",
       "      <th>Android Ver</th>\n",
       "    </tr>\n",
       "  </thead>\n",
       "  <tbody>\n",
       "    <tr>\n",
       "      <th>0</th>\n",
       "      <td>Photo Editor &amp; Candy Camera &amp; Grid &amp; ScrapBook</td>\n",
       "      <td>ART_AND_DESIGN</td>\n",
       "      <td>4.1</td>\n",
       "      <td>159.0</td>\n",
       "      <td>19000.0</td>\n",
       "      <td>10000</td>\n",
       "      <td>Free</td>\n",
       "      <td>0</td>\n",
       "      <td>Everyone</td>\n",
       "      <td>Art &amp; Design</td>\n",
       "      <td>January 7, 2018</td>\n",
       "      <td>1.0.0</td>\n",
       "      <td>4.0.3 and up</td>\n",
       "    </tr>\n",
       "    <tr>\n",
       "      <th>1</th>\n",
       "      <td>Coloring book moana</td>\n",
       "      <td>ART_AND_DESIGN</td>\n",
       "      <td>3.9</td>\n",
       "      <td>967.0</td>\n",
       "      <td>14000.0</td>\n",
       "      <td>500000</td>\n",
       "      <td>Free</td>\n",
       "      <td>0</td>\n",
       "      <td>Everyone</td>\n",
       "      <td>Art &amp; Design;Pretend Play</td>\n",
       "      <td>January 15, 2018</td>\n",
       "      <td>2.0.0</td>\n",
       "      <td>4.0.3 and up</td>\n",
       "    </tr>\n",
       "    <tr>\n",
       "      <th>2</th>\n",
       "      <td>U Launcher Lite – FREE Live Cool Themes, Hide ...</td>\n",
       "      <td>ART_AND_DESIGN</td>\n",
       "      <td>4.7</td>\n",
       "      <td>87510.0</td>\n",
       "      <td>8700.0</td>\n",
       "      <td>5000000</td>\n",
       "      <td>Free</td>\n",
       "      <td>0</td>\n",
       "      <td>Everyone</td>\n",
       "      <td>Art &amp; Design</td>\n",
       "      <td>August 1, 2018</td>\n",
       "      <td>1.2.4</td>\n",
       "      <td>4.0.3 and up</td>\n",
       "    </tr>\n",
       "    <tr>\n",
       "      <th>4</th>\n",
       "      <td>Pixel Draw - Number Art Coloring Book</td>\n",
       "      <td>ART_AND_DESIGN</td>\n",
       "      <td>4.3</td>\n",
       "      <td>967.0</td>\n",
       "      <td>2800.0</td>\n",
       "      <td>100000</td>\n",
       "      <td>Free</td>\n",
       "      <td>0</td>\n",
       "      <td>Everyone</td>\n",
       "      <td>Art &amp; Design;Creativity</td>\n",
       "      <td>June 20, 2018</td>\n",
       "      <td>1.1</td>\n",
       "      <td>4.4 and up</td>\n",
       "    </tr>\n",
       "    <tr>\n",
       "      <th>5</th>\n",
       "      <td>Paper flowers instructions</td>\n",
       "      <td>ART_AND_DESIGN</td>\n",
       "      <td>4.4</td>\n",
       "      <td>167.0</td>\n",
       "      <td>5600.0</td>\n",
       "      <td>50000</td>\n",
       "      <td>Free</td>\n",
       "      <td>0</td>\n",
       "      <td>Everyone</td>\n",
       "      <td>Art &amp; Design</td>\n",
       "      <td>March 26, 2017</td>\n",
       "      <td>1.0</td>\n",
       "      <td>2.3 and up</td>\n",
       "    </tr>\n",
       "  </tbody>\n",
       "</table>\n",
       "</div>"
      ],
      "text/plain": [
       "                                                 App        Category  Rating  \\\n",
       "0     Photo Editor & Candy Camera & Grid & ScrapBook  ART_AND_DESIGN     4.1   \n",
       "1                                Coloring book moana  ART_AND_DESIGN     3.9   \n",
       "2  U Launcher Lite – FREE Live Cool Themes, Hide ...  ART_AND_DESIGN     4.7   \n",
       "4              Pixel Draw - Number Art Coloring Book  ART_AND_DESIGN     4.3   \n",
       "5                         Paper flowers instructions  ART_AND_DESIGN     4.4   \n",
       "\n",
       "   Reviews     Size  Installs  Type  Price Content Rating  \\\n",
       "0    159.0  19000.0     10000  Free      0       Everyone   \n",
       "1    967.0  14000.0    500000  Free      0       Everyone   \n",
       "2  87510.0   8700.0   5000000  Free      0       Everyone   \n",
       "4    967.0   2800.0    100000  Free      0       Everyone   \n",
       "5    167.0   5600.0     50000  Free      0       Everyone   \n",
       "\n",
       "                      Genres      Last Updated Current Ver   Android Ver  \n",
       "0               Art & Design   January 7, 2018       1.0.0  4.0.3 and up  \n",
       "1  Art & Design;Pretend Play  January 15, 2018       2.0.0  4.0.3 and up  \n",
       "2               Art & Design    August 1, 2018       1.2.4  4.0.3 and up  \n",
       "4    Art & Design;Creativity     June 20, 2018         1.1    4.4 and up  \n",
       "5               Art & Design    March 26, 2017         1.0    2.3 and up  "
      ]
     },
     "execution_count": 310,
     "metadata": {},
     "output_type": "execute_result"
    }
   ],
   "source": [
    "inp1.head()"
   ]
  },
  {
   "cell_type": "code",
   "execution_count": 311,
   "id": "3e3f5aae-7bcd-4891-a9fc-424cd65c0ec4",
   "metadata": {},
   "outputs": [
    {
     "name": "stderr",
     "output_type": "stream",
     "text": [
      "/tmp/ipykernel_91/3545313420.py:1: FutureWarning: The default value of numeric_only in DataFrame.skew is deprecated. In a future version, it will default to False. In addition, specifying 'numeric_only=None' is deprecated. Select only valid columns or specify the value of numeric_only to silence this warning.\n",
      "  inp1.skew()\n"
     ]
    },
    {
     "data": {
      "text/plain": [
       "Rating      -1.749753\n",
       "Reviews      4.576494\n",
       "Size         1.655917\n",
       "Installs     1.543697\n",
       "Price       18.074542\n",
       "dtype: float64"
      ]
     },
     "execution_count": 311,
     "metadata": {},
     "output_type": "execute_result"
    }
   ],
   "source": [
    "inp1.skew()"
   ]
  },
  {
   "cell_type": "code",
   "execution_count": 312,
   "id": "f0ace73a-2d16-4ce2-973d-267f0e491798",
   "metadata": {},
   "outputs": [],
   "source": [
    "reviewskew = np.log1p(inp1['Reviews'])\n",
    "inp1['Reviews'] = reviewskew"
   ]
  },
  {
   "cell_type": "code",
   "execution_count": 313,
   "id": "2a875bb9-5772-476a-ae4e-0d873fab08d3",
   "metadata": {},
   "outputs": [
    {
     "data": {
      "text/plain": [
       "-0.20039949659264156"
      ]
     },
     "execution_count": 313,
     "metadata": {},
     "output_type": "execute_result"
    }
   ],
   "source": [
    "reviewskew.skew()"
   ]
  },
  {
   "cell_type": "code",
   "execution_count": 314,
   "id": "028ff408-7716-4508-a325-4fdccecb4198",
   "metadata": {},
   "outputs": [
    {
     "data": {
      "text/plain": [
       "0          10000\n",
       "1         500000\n",
       "2        5000000\n",
       "4         100000\n",
       "5          50000\n",
       "          ...   \n",
       "9348         500\n",
       "9349        5000\n",
       "9350         100\n",
       "9351        1000\n",
       "9352    10000000\n",
       "Name: Installs, Length: 8496, dtype: int64"
      ]
     },
     "execution_count": 314,
     "metadata": {},
     "output_type": "execute_result"
    }
   ],
   "source": [
    "installsskew = np.log1p(inp1['Installs'])\n",
    "inp1['Installs'] "
   ]
  },
  {
   "cell_type": "code",
   "execution_count": 315,
   "id": "eed2b3bd-360a-4e8e-ba51-aca2efd46df1",
   "metadata": {},
   "outputs": [
    {
     "data": {
      "text/plain": [
       "-0.5097286542754812"
      ]
     },
     "execution_count": 315,
     "metadata": {},
     "output_type": "execute_result"
    }
   ],
   "source": [
    "installsskew.skew()"
   ]
  },
  {
   "cell_type": "code",
   "execution_count": 316,
   "id": "4e7f93e8-1198-4c2e-abe9-f0112f1f9daf",
   "metadata": {},
   "outputs": [
    {
     "data": {
      "text/html": [
       "<div>\n",
       "<style scoped>\n",
       "    .dataframe tbody tr th:only-of-type {\n",
       "        vertical-align: middle;\n",
       "    }\n",
       "\n",
       "    .dataframe tbody tr th {\n",
       "        vertical-align: top;\n",
       "    }\n",
       "\n",
       "    .dataframe thead th {\n",
       "        text-align: right;\n",
       "    }\n",
       "</style>\n",
       "<table border=\"1\" class=\"dataframe\">\n",
       "  <thead>\n",
       "    <tr style=\"text-align: right;\">\n",
       "      <th></th>\n",
       "      <th>App</th>\n",
       "      <th>Category</th>\n",
       "      <th>Rating</th>\n",
       "      <th>Reviews</th>\n",
       "      <th>Size</th>\n",
       "      <th>Installs</th>\n",
       "      <th>Type</th>\n",
       "      <th>Price</th>\n",
       "      <th>Content Rating</th>\n",
       "      <th>Genres</th>\n",
       "      <th>Last Updated</th>\n",
       "      <th>Current Ver</th>\n",
       "      <th>Android Ver</th>\n",
       "    </tr>\n",
       "  </thead>\n",
       "  <tbody>\n",
       "    <tr>\n",
       "      <th>0</th>\n",
       "      <td>Photo Editor &amp; Candy Camera &amp; Grid &amp; ScrapBook</td>\n",
       "      <td>ART_AND_DESIGN</td>\n",
       "      <td>4.1</td>\n",
       "      <td>5.075174</td>\n",
       "      <td>19000.0</td>\n",
       "      <td>10000</td>\n",
       "      <td>Free</td>\n",
       "      <td>0</td>\n",
       "      <td>Everyone</td>\n",
       "      <td>Art &amp; Design</td>\n",
       "      <td>January 7, 2018</td>\n",
       "      <td>1.0.0</td>\n",
       "      <td>4.0.3 and up</td>\n",
       "    </tr>\n",
       "    <tr>\n",
       "      <th>1</th>\n",
       "      <td>Coloring book moana</td>\n",
       "      <td>ART_AND_DESIGN</td>\n",
       "      <td>3.9</td>\n",
       "      <td>6.875232</td>\n",
       "      <td>14000.0</td>\n",
       "      <td>500000</td>\n",
       "      <td>Free</td>\n",
       "      <td>0</td>\n",
       "      <td>Everyone</td>\n",
       "      <td>Art &amp; Design;Pretend Play</td>\n",
       "      <td>January 15, 2018</td>\n",
       "      <td>2.0.0</td>\n",
       "      <td>4.0.3 and up</td>\n",
       "    </tr>\n",
       "    <tr>\n",
       "      <th>2</th>\n",
       "      <td>U Launcher Lite – FREE Live Cool Themes, Hide ...</td>\n",
       "      <td>ART_AND_DESIGN</td>\n",
       "      <td>4.7</td>\n",
       "      <td>11.379520</td>\n",
       "      <td>8700.0</td>\n",
       "      <td>5000000</td>\n",
       "      <td>Free</td>\n",
       "      <td>0</td>\n",
       "      <td>Everyone</td>\n",
       "      <td>Art &amp; Design</td>\n",
       "      <td>August 1, 2018</td>\n",
       "      <td>1.2.4</td>\n",
       "      <td>4.0.3 and up</td>\n",
       "    </tr>\n",
       "    <tr>\n",
       "      <th>4</th>\n",
       "      <td>Pixel Draw - Number Art Coloring Book</td>\n",
       "      <td>ART_AND_DESIGN</td>\n",
       "      <td>4.3</td>\n",
       "      <td>6.875232</td>\n",
       "      <td>2800.0</td>\n",
       "      <td>100000</td>\n",
       "      <td>Free</td>\n",
       "      <td>0</td>\n",
       "      <td>Everyone</td>\n",
       "      <td>Art &amp; Design;Creativity</td>\n",
       "      <td>June 20, 2018</td>\n",
       "      <td>1.1</td>\n",
       "      <td>4.4 and up</td>\n",
       "    </tr>\n",
       "    <tr>\n",
       "      <th>5</th>\n",
       "      <td>Paper flowers instructions</td>\n",
       "      <td>ART_AND_DESIGN</td>\n",
       "      <td>4.4</td>\n",
       "      <td>5.123964</td>\n",
       "      <td>5600.0</td>\n",
       "      <td>50000</td>\n",
       "      <td>Free</td>\n",
       "      <td>0</td>\n",
       "      <td>Everyone</td>\n",
       "      <td>Art &amp; Design</td>\n",
       "      <td>March 26, 2017</td>\n",
       "      <td>1.0</td>\n",
       "      <td>2.3 and up</td>\n",
       "    </tr>\n",
       "  </tbody>\n",
       "</table>\n",
       "</div>"
      ],
      "text/plain": [
       "                                                 App        Category  Rating  \\\n",
       "0     Photo Editor & Candy Camera & Grid & ScrapBook  ART_AND_DESIGN     4.1   \n",
       "1                                Coloring book moana  ART_AND_DESIGN     3.9   \n",
       "2  U Launcher Lite – FREE Live Cool Themes, Hide ...  ART_AND_DESIGN     4.7   \n",
       "4              Pixel Draw - Number Art Coloring Book  ART_AND_DESIGN     4.3   \n",
       "5                         Paper flowers instructions  ART_AND_DESIGN     4.4   \n",
       "\n",
       "     Reviews     Size  Installs  Type  Price Content Rating  \\\n",
       "0   5.075174  19000.0     10000  Free      0       Everyone   \n",
       "1   6.875232  14000.0    500000  Free      0       Everyone   \n",
       "2  11.379520   8700.0   5000000  Free      0       Everyone   \n",
       "4   6.875232   2800.0    100000  Free      0       Everyone   \n",
       "5   5.123964   5600.0     50000  Free      0       Everyone   \n",
       "\n",
       "                      Genres      Last Updated Current Ver   Android Ver  \n",
       "0               Art & Design   January 7, 2018       1.0.0  4.0.3 and up  \n",
       "1  Art & Design;Pretend Play  January 15, 2018       2.0.0  4.0.3 and up  \n",
       "2               Art & Design    August 1, 2018       1.2.4  4.0.3 and up  \n",
       "4    Art & Design;Creativity     June 20, 2018         1.1    4.4 and up  \n",
       "5               Art & Design    March 26, 2017         1.0    2.3 and up  "
      ]
     },
     "execution_count": 316,
     "metadata": {},
     "output_type": "execute_result"
    }
   ],
   "source": [
    "inp1.head()"
   ]
  },
  {
   "cell_type": "code",
   "execution_count": 317,
   "id": "6f0e01bc-52f6-42c3-931d-f7031deeec5c",
   "metadata": {},
   "outputs": [],
   "source": [
    "inp1.drop([\"Last Updated\",\"Current Ver\",\"Android Ver\",\"App\",\"Type\"],axis=1,inplace=True)"
   ]
  },
  {
   "cell_type": "code",
   "execution_count": 318,
   "id": "baf9d398-ed08-4540-8024-7ad75ecf9719",
   "metadata": {},
   "outputs": [
    {
     "data": {
      "text/html": [
       "<div>\n",
       "<style scoped>\n",
       "    .dataframe tbody tr th:only-of-type {\n",
       "        vertical-align: middle;\n",
       "    }\n",
       "\n",
       "    .dataframe tbody tr th {\n",
       "        vertical-align: top;\n",
       "    }\n",
       "\n",
       "    .dataframe thead th {\n",
       "        text-align: right;\n",
       "    }\n",
       "</style>\n",
       "<table border=\"1\" class=\"dataframe\">\n",
       "  <thead>\n",
       "    <tr style=\"text-align: right;\">\n",
       "      <th></th>\n",
       "      <th>Category</th>\n",
       "      <th>Rating</th>\n",
       "      <th>Reviews</th>\n",
       "      <th>Size</th>\n",
       "      <th>Installs</th>\n",
       "      <th>Price</th>\n",
       "      <th>Content Rating</th>\n",
       "      <th>Genres</th>\n",
       "    </tr>\n",
       "  </thead>\n",
       "  <tbody>\n",
       "    <tr>\n",
       "      <th>0</th>\n",
       "      <td>ART_AND_DESIGN</td>\n",
       "      <td>4.1</td>\n",
       "      <td>5.075174</td>\n",
       "      <td>19000.0</td>\n",
       "      <td>10000</td>\n",
       "      <td>0</td>\n",
       "      <td>Everyone</td>\n",
       "      <td>Art &amp; Design</td>\n",
       "    </tr>\n",
       "    <tr>\n",
       "      <th>1</th>\n",
       "      <td>ART_AND_DESIGN</td>\n",
       "      <td>3.9</td>\n",
       "      <td>6.875232</td>\n",
       "      <td>14000.0</td>\n",
       "      <td>500000</td>\n",
       "      <td>0</td>\n",
       "      <td>Everyone</td>\n",
       "      <td>Art &amp; Design;Pretend Play</td>\n",
       "    </tr>\n",
       "    <tr>\n",
       "      <th>2</th>\n",
       "      <td>ART_AND_DESIGN</td>\n",
       "      <td>4.7</td>\n",
       "      <td>11.379520</td>\n",
       "      <td>8700.0</td>\n",
       "      <td>5000000</td>\n",
       "      <td>0</td>\n",
       "      <td>Everyone</td>\n",
       "      <td>Art &amp; Design</td>\n",
       "    </tr>\n",
       "    <tr>\n",
       "      <th>4</th>\n",
       "      <td>ART_AND_DESIGN</td>\n",
       "      <td>4.3</td>\n",
       "      <td>6.875232</td>\n",
       "      <td>2800.0</td>\n",
       "      <td>100000</td>\n",
       "      <td>0</td>\n",
       "      <td>Everyone</td>\n",
       "      <td>Art &amp; Design;Creativity</td>\n",
       "    </tr>\n",
       "    <tr>\n",
       "      <th>5</th>\n",
       "      <td>ART_AND_DESIGN</td>\n",
       "      <td>4.4</td>\n",
       "      <td>5.123964</td>\n",
       "      <td>5600.0</td>\n",
       "      <td>50000</td>\n",
       "      <td>0</td>\n",
       "      <td>Everyone</td>\n",
       "      <td>Art &amp; Design</td>\n",
       "    </tr>\n",
       "  </tbody>\n",
       "</table>\n",
       "</div>"
      ],
      "text/plain": [
       "         Category  Rating    Reviews     Size  Installs  Price Content Rating  \\\n",
       "0  ART_AND_DESIGN     4.1   5.075174  19000.0     10000      0       Everyone   \n",
       "1  ART_AND_DESIGN     3.9   6.875232  14000.0    500000      0       Everyone   \n",
       "2  ART_AND_DESIGN     4.7  11.379520   8700.0   5000000      0       Everyone   \n",
       "4  ART_AND_DESIGN     4.3   6.875232   2800.0    100000      0       Everyone   \n",
       "5  ART_AND_DESIGN     4.4   5.123964   5600.0     50000      0       Everyone   \n",
       "\n",
       "                      Genres  \n",
       "0               Art & Design  \n",
       "1  Art & Design;Pretend Play  \n",
       "2               Art & Design  \n",
       "4    Art & Design;Creativity  \n",
       "5               Art & Design  "
      ]
     },
     "execution_count": 318,
     "metadata": {},
     "output_type": "execute_result"
    }
   ],
   "source": [
    "inp1.head()"
   ]
  },
  {
   "cell_type": "code",
   "execution_count": 319,
   "id": "538d5a4f-5820-4a2c-845a-8ded58e60e39",
   "metadata": {},
   "outputs": [],
   "source": [
    "inp2 = inp1"
   ]
  },
  {
   "cell_type": "code",
   "execution_count": 320,
   "id": "8a10b55b-a84c-4f5c-9848-23059a6615d3",
   "metadata": {},
   "outputs": [
    {
     "data": {
      "text/html": [
       "<div>\n",
       "<style scoped>\n",
       "    .dataframe tbody tr th:only-of-type {\n",
       "        vertical-align: middle;\n",
       "    }\n",
       "\n",
       "    .dataframe tbody tr th {\n",
       "        vertical-align: top;\n",
       "    }\n",
       "\n",
       "    .dataframe thead th {\n",
       "        text-align: right;\n",
       "    }\n",
       "</style>\n",
       "<table border=\"1\" class=\"dataframe\">\n",
       "  <thead>\n",
       "    <tr style=\"text-align: right;\">\n",
       "      <th></th>\n",
       "      <th>Category</th>\n",
       "      <th>Rating</th>\n",
       "      <th>Reviews</th>\n",
       "      <th>Size</th>\n",
       "      <th>Installs</th>\n",
       "      <th>Price</th>\n",
       "      <th>Content Rating</th>\n",
       "      <th>Genres</th>\n",
       "    </tr>\n",
       "  </thead>\n",
       "  <tbody>\n",
       "    <tr>\n",
       "      <th>0</th>\n",
       "      <td>ART_AND_DESIGN</td>\n",
       "      <td>4.1</td>\n",
       "      <td>5.075174</td>\n",
       "      <td>19000.0</td>\n",
       "      <td>10000</td>\n",
       "      <td>0</td>\n",
       "      <td>Everyone</td>\n",
       "      <td>Art &amp; Design</td>\n",
       "    </tr>\n",
       "    <tr>\n",
       "      <th>1</th>\n",
       "      <td>ART_AND_DESIGN</td>\n",
       "      <td>3.9</td>\n",
       "      <td>6.875232</td>\n",
       "      <td>14000.0</td>\n",
       "      <td>500000</td>\n",
       "      <td>0</td>\n",
       "      <td>Everyone</td>\n",
       "      <td>Art &amp; Design;Pretend Play</td>\n",
       "    </tr>\n",
       "    <tr>\n",
       "      <th>2</th>\n",
       "      <td>ART_AND_DESIGN</td>\n",
       "      <td>4.7</td>\n",
       "      <td>11.379520</td>\n",
       "      <td>8700.0</td>\n",
       "      <td>5000000</td>\n",
       "      <td>0</td>\n",
       "      <td>Everyone</td>\n",
       "      <td>Art &amp; Design</td>\n",
       "    </tr>\n",
       "    <tr>\n",
       "      <th>4</th>\n",
       "      <td>ART_AND_DESIGN</td>\n",
       "      <td>4.3</td>\n",
       "      <td>6.875232</td>\n",
       "      <td>2800.0</td>\n",
       "      <td>100000</td>\n",
       "      <td>0</td>\n",
       "      <td>Everyone</td>\n",
       "      <td>Art &amp; Design;Creativity</td>\n",
       "    </tr>\n",
       "    <tr>\n",
       "      <th>5</th>\n",
       "      <td>ART_AND_DESIGN</td>\n",
       "      <td>4.4</td>\n",
       "      <td>5.123964</td>\n",
       "      <td>5600.0</td>\n",
       "      <td>50000</td>\n",
       "      <td>0</td>\n",
       "      <td>Everyone</td>\n",
       "      <td>Art &amp; Design</td>\n",
       "    </tr>\n",
       "  </tbody>\n",
       "</table>\n",
       "</div>"
      ],
      "text/plain": [
       "         Category  Rating    Reviews     Size  Installs  Price Content Rating  \\\n",
       "0  ART_AND_DESIGN     4.1   5.075174  19000.0     10000      0       Everyone   \n",
       "1  ART_AND_DESIGN     3.9   6.875232  14000.0    500000      0       Everyone   \n",
       "2  ART_AND_DESIGN     4.7  11.379520   8700.0   5000000      0       Everyone   \n",
       "4  ART_AND_DESIGN     4.3   6.875232   2800.0    100000      0       Everyone   \n",
       "5  ART_AND_DESIGN     4.4   5.123964   5600.0     50000      0       Everyone   \n",
       "\n",
       "                      Genres  \n",
       "0               Art & Design  \n",
       "1  Art & Design;Pretend Play  \n",
       "2               Art & Design  \n",
       "4    Art & Design;Creativity  \n",
       "5               Art & Design  "
      ]
     },
     "execution_count": 320,
     "metadata": {},
     "output_type": "execute_result"
    }
   ],
   "source": [
    "inp2.head()"
   ]
  },
  {
   "cell_type": "markdown",
   "id": "0b462f60-0b2d-4847-b5b8-f377f1d857fa",
   "metadata": {},
   "source": [
    "##### Applying encoding on category,Content Rating and Genres columns"
   ]
  },
  {
   "cell_type": "code",
   "execution_count": 321,
   "id": "2a26128f-49b5-4602-af21-acc1211126de",
   "metadata": {},
   "outputs": [
    {
     "data": {
      "text/plain": [
       "array(['ART_AND_DESIGN', 'AUTO_AND_VEHICLES', 'BEAUTY',\n",
       "       'BOOKS_AND_REFERENCE', 'BUSINESS', 'COMICS', 'COMMUNICATION',\n",
       "       'DATING', 'EDUCATION', 'ENTERTAINMENT', 'EVENTS', 'FINANCE',\n",
       "       'FOOD_AND_DRINK', 'HEALTH_AND_FITNESS', 'HOUSE_AND_HOME',\n",
       "       'LIBRARIES_AND_DEMO', 'LIFESTYLE', 'GAME', 'FAMILY', 'MEDICAL',\n",
       "       'SOCIAL', 'SHOPPING', 'PHOTOGRAPHY', 'SPORTS', 'TRAVEL_AND_LOCAL',\n",
       "       'TOOLS', 'PERSONALIZATION', 'PRODUCTIVITY', 'PARENTING', 'WEATHER',\n",
       "       'VIDEO_PLAYERS', 'NEWS_AND_MAGAZINES', 'MAPS_AND_NAVIGATION'],\n",
       "      dtype=object)"
      ]
     },
     "execution_count": 321,
     "metadata": {},
     "output_type": "execute_result"
    }
   ],
   "source": [
    "#get unique values in Column \"Category\"\n",
    "inp2.Category.unique()"
   ]
  },
  {
   "cell_type": "code",
   "execution_count": 322,
   "id": "83a62a70-1d46-4cee-9059-0c15104a1019",
   "metadata": {},
   "outputs": [
    {
     "data": {
      "text/html": [
       "<div>\n",
       "<style scoped>\n",
       "    .dataframe tbody tr th:only-of-type {\n",
       "        vertical-align: middle;\n",
       "    }\n",
       "\n",
       "    .dataframe tbody tr th {\n",
       "        vertical-align: top;\n",
       "    }\n",
       "\n",
       "    .dataframe thead th {\n",
       "        text-align: right;\n",
       "    }\n",
       "</style>\n",
       "<table border=\"1\" class=\"dataframe\">\n",
       "  <thead>\n",
       "    <tr style=\"text-align: right;\">\n",
       "      <th></th>\n",
       "      <th>Rating</th>\n",
       "      <th>Reviews</th>\n",
       "      <th>Size</th>\n",
       "      <th>Installs</th>\n",
       "      <th>Price</th>\n",
       "      <th>Content Rating</th>\n",
       "      <th>Genres</th>\n",
       "      <th>Category_ART_AND_DESIGN</th>\n",
       "      <th>Category_AUTO_AND_VEHICLES</th>\n",
       "      <th>Category_BEAUTY</th>\n",
       "      <th>...</th>\n",
       "      <th>Category_PERSONALIZATION</th>\n",
       "      <th>Category_PHOTOGRAPHY</th>\n",
       "      <th>Category_PRODUCTIVITY</th>\n",
       "      <th>Category_SHOPPING</th>\n",
       "      <th>Category_SOCIAL</th>\n",
       "      <th>Category_SPORTS</th>\n",
       "      <th>Category_TOOLS</th>\n",
       "      <th>Category_TRAVEL_AND_LOCAL</th>\n",
       "      <th>Category_VIDEO_PLAYERS</th>\n",
       "      <th>Category_WEATHER</th>\n",
       "    </tr>\n",
       "  </thead>\n",
       "  <tbody>\n",
       "    <tr>\n",
       "      <th>0</th>\n",
       "      <td>4.1</td>\n",
       "      <td>5.075174</td>\n",
       "      <td>19000.0</td>\n",
       "      <td>10000</td>\n",
       "      <td>0</td>\n",
       "      <td>Everyone</td>\n",
       "      <td>Art &amp; Design</td>\n",
       "      <td>1</td>\n",
       "      <td>0</td>\n",
       "      <td>0</td>\n",
       "      <td>...</td>\n",
       "      <td>0</td>\n",
       "      <td>0</td>\n",
       "      <td>0</td>\n",
       "      <td>0</td>\n",
       "      <td>0</td>\n",
       "      <td>0</td>\n",
       "      <td>0</td>\n",
       "      <td>0</td>\n",
       "      <td>0</td>\n",
       "      <td>0</td>\n",
       "    </tr>\n",
       "    <tr>\n",
       "      <th>1</th>\n",
       "      <td>3.9</td>\n",
       "      <td>6.875232</td>\n",
       "      <td>14000.0</td>\n",
       "      <td>500000</td>\n",
       "      <td>0</td>\n",
       "      <td>Everyone</td>\n",
       "      <td>Art &amp; Design;Pretend Play</td>\n",
       "      <td>1</td>\n",
       "      <td>0</td>\n",
       "      <td>0</td>\n",
       "      <td>...</td>\n",
       "      <td>0</td>\n",
       "      <td>0</td>\n",
       "      <td>0</td>\n",
       "      <td>0</td>\n",
       "      <td>0</td>\n",
       "      <td>0</td>\n",
       "      <td>0</td>\n",
       "      <td>0</td>\n",
       "      <td>0</td>\n",
       "      <td>0</td>\n",
       "    </tr>\n",
       "    <tr>\n",
       "      <th>2</th>\n",
       "      <td>4.7</td>\n",
       "      <td>11.379520</td>\n",
       "      <td>8700.0</td>\n",
       "      <td>5000000</td>\n",
       "      <td>0</td>\n",
       "      <td>Everyone</td>\n",
       "      <td>Art &amp; Design</td>\n",
       "      <td>1</td>\n",
       "      <td>0</td>\n",
       "      <td>0</td>\n",
       "      <td>...</td>\n",
       "      <td>0</td>\n",
       "      <td>0</td>\n",
       "      <td>0</td>\n",
       "      <td>0</td>\n",
       "      <td>0</td>\n",
       "      <td>0</td>\n",
       "      <td>0</td>\n",
       "      <td>0</td>\n",
       "      <td>0</td>\n",
       "      <td>0</td>\n",
       "    </tr>\n",
       "    <tr>\n",
       "      <th>4</th>\n",
       "      <td>4.3</td>\n",
       "      <td>6.875232</td>\n",
       "      <td>2800.0</td>\n",
       "      <td>100000</td>\n",
       "      <td>0</td>\n",
       "      <td>Everyone</td>\n",
       "      <td>Art &amp; Design;Creativity</td>\n",
       "      <td>1</td>\n",
       "      <td>0</td>\n",
       "      <td>0</td>\n",
       "      <td>...</td>\n",
       "      <td>0</td>\n",
       "      <td>0</td>\n",
       "      <td>0</td>\n",
       "      <td>0</td>\n",
       "      <td>0</td>\n",
       "      <td>0</td>\n",
       "      <td>0</td>\n",
       "      <td>0</td>\n",
       "      <td>0</td>\n",
       "      <td>0</td>\n",
       "    </tr>\n",
       "    <tr>\n",
       "      <th>5</th>\n",
       "      <td>4.4</td>\n",
       "      <td>5.123964</td>\n",
       "      <td>5600.0</td>\n",
       "      <td>50000</td>\n",
       "      <td>0</td>\n",
       "      <td>Everyone</td>\n",
       "      <td>Art &amp; Design</td>\n",
       "      <td>1</td>\n",
       "      <td>0</td>\n",
       "      <td>0</td>\n",
       "      <td>...</td>\n",
       "      <td>0</td>\n",
       "      <td>0</td>\n",
       "      <td>0</td>\n",
       "      <td>0</td>\n",
       "      <td>0</td>\n",
       "      <td>0</td>\n",
       "      <td>0</td>\n",
       "      <td>0</td>\n",
       "      <td>0</td>\n",
       "      <td>0</td>\n",
       "    </tr>\n",
       "  </tbody>\n",
       "</table>\n",
       "<p>5 rows × 40 columns</p>\n",
       "</div>"
      ],
      "text/plain": [
       "   Rating    Reviews     Size  Installs  Price Content Rating  \\\n",
       "0     4.1   5.075174  19000.0     10000      0       Everyone   \n",
       "1     3.9   6.875232  14000.0    500000      0       Everyone   \n",
       "2     4.7  11.379520   8700.0   5000000      0       Everyone   \n",
       "4     4.3   6.875232   2800.0    100000      0       Everyone   \n",
       "5     4.4   5.123964   5600.0     50000      0       Everyone   \n",
       "\n",
       "                      Genres  Category_ART_AND_DESIGN  \\\n",
       "0               Art & Design                        1   \n",
       "1  Art & Design;Pretend Play                        1   \n",
       "2               Art & Design                        1   \n",
       "4    Art & Design;Creativity                        1   \n",
       "5               Art & Design                        1   \n",
       "\n",
       "   Category_AUTO_AND_VEHICLES  Category_BEAUTY  ...  Category_PERSONALIZATION  \\\n",
       "0                           0                0  ...                         0   \n",
       "1                           0                0  ...                         0   \n",
       "2                           0                0  ...                         0   \n",
       "4                           0                0  ...                         0   \n",
       "5                           0                0  ...                         0   \n",
       "\n",
       "   Category_PHOTOGRAPHY  Category_PRODUCTIVITY  Category_SHOPPING  \\\n",
       "0                     0                      0                  0   \n",
       "1                     0                      0                  0   \n",
       "2                     0                      0                  0   \n",
       "4                     0                      0                  0   \n",
       "5                     0                      0                  0   \n",
       "\n",
       "   Category_SOCIAL  Category_SPORTS  Category_TOOLS  \\\n",
       "0                0                0               0   \n",
       "1                0                0               0   \n",
       "2                0                0               0   \n",
       "4                0                0               0   \n",
       "5                0                0               0   \n",
       "\n",
       "   Category_TRAVEL_AND_LOCAL  Category_VIDEO_PLAYERS  Category_WEATHER  \n",
       "0                          0                       0                 0  \n",
       "1                          0                       0                 0  \n",
       "2                          0                       0                 0  \n",
       "4                          0                       0                 0  \n",
       "5                          0                       0                 0  \n",
       "\n",
       "[5 rows x 40 columns]"
      ]
     },
     "execution_count": 322,
     "metadata": {},
     "output_type": "execute_result"
    }
   ],
   "source": [
    "inp2.Category = pd.Categorical(inp2.Category)\n",
    "\n",
    "x = inp2[['Category']]\n",
    "del inp2['Category']\n",
    "\n",
    "dummies = pd.get_dummies(x, prefix = 'Category')\n",
    "inp2 = pd.concat([inp2,dummies], axis=1)\n",
    "inp2.head()"
   ]
  },
  {
   "cell_type": "code",
   "execution_count": 323,
   "id": "f580c5d9-906d-4edf-b3a9-6d68e4a91405",
   "metadata": {},
   "outputs": [
    {
     "data": {
      "text/plain": [
       "array(['Art & Design', 'Art & Design;Pretend Play',\n",
       "       'Art & Design;Creativity', 'Auto & Vehicles', 'Beauty',\n",
       "       'Books & Reference', 'Business', 'Comics', 'Comics;Creativity',\n",
       "       'Communication', 'Dating', 'Education', 'Education;Creativity',\n",
       "       'Education;Education', 'Education;Music & Video',\n",
       "       'Education;Action & Adventure', 'Education;Pretend Play',\n",
       "       'Education;Brain Games', 'Entertainment',\n",
       "       'Entertainment;Brain Games', 'Entertainment;Creativity',\n",
       "       'Entertainment;Music & Video', 'Events', 'Finance', 'Food & Drink',\n",
       "       'Health & Fitness', 'House & Home', 'Libraries & Demo',\n",
       "       'Lifestyle', 'Lifestyle;Pretend Play', 'Card', 'Casual', 'Puzzle',\n",
       "       'Action', 'Arcade', 'Word', 'Racing', 'Casual;Creativity',\n",
       "       'Sports', 'Board', 'Simulation', 'Role Playing', 'Adventure',\n",
       "       'Strategy', 'Simulation;Education', 'Action;Action & Adventure',\n",
       "       'Trivia', 'Casual;Brain Games', 'Simulation;Action & Adventure',\n",
       "       'Educational;Creativity', 'Puzzle;Brain Games',\n",
       "       'Educational;Education', 'Card;Brain Games',\n",
       "       'Educational;Brain Games', 'Educational;Pretend Play',\n",
       "       'Casual;Action & Adventure', 'Entertainment;Education',\n",
       "       'Casual;Education', 'Casual;Pretend Play', 'Music;Music & Video',\n",
       "       'Racing;Action & Adventure', 'Arcade;Pretend Play',\n",
       "       'Adventure;Action & Adventure', 'Role Playing;Action & Adventure',\n",
       "       'Simulation;Pretend Play', 'Puzzle;Creativity',\n",
       "       'Sports;Action & Adventure', 'Educational;Action & Adventure',\n",
       "       'Arcade;Action & Adventure', 'Entertainment;Action & Adventure',\n",
       "       'Puzzle;Action & Adventure', 'Strategy;Action & Adventure',\n",
       "       'Music & Audio;Music & Video', 'Health & Fitness;Education',\n",
       "       'Adventure;Education', 'Board;Brain Games',\n",
       "       'Board;Action & Adventure', 'Board;Pretend Play',\n",
       "       'Casual;Music & Video', 'Role Playing;Pretend Play',\n",
       "       'Entertainment;Pretend Play', 'Video Players & Editors;Creativity',\n",
       "       'Card;Action & Adventure', 'Medical', 'Social', 'Shopping',\n",
       "       'Photography', 'Travel & Local',\n",
       "       'Travel & Local;Action & Adventure', 'Tools', 'Tools;Education',\n",
       "       'Personalization', 'Productivity', 'Parenting',\n",
       "       'Parenting;Music & Video', 'Parenting;Brain Games',\n",
       "       'Parenting;Education', 'Weather', 'Video Players & Editors',\n",
       "       'Video Players & Editors;Music & Video', 'News & Magazines',\n",
       "       'Maps & Navigation', 'Health & Fitness;Action & Adventure',\n",
       "       'Music', 'Educational', 'Casino', 'Adventure;Brain Games',\n",
       "       'Lifestyle;Education', 'Books & Reference;Education',\n",
       "       'Puzzle;Education', 'Role Playing;Brain Games',\n",
       "       'Strategy;Education', 'Racing;Pretend Play',\n",
       "       'Communication;Creativity', 'Strategy;Creativity'], dtype=object)"
      ]
     },
     "execution_count": 323,
     "metadata": {},
     "output_type": "execute_result"
    }
   ],
   "source": [
    "inp2[\"Genres\"].unique()"
   ]
  },
  {
   "cell_type": "markdown",
   "id": "29a72489-3109-45f6-9340-3ce614ea27a7",
   "metadata": {},
   "source": [
    "###### As there are too many uniuqe categories, creating the encoding for these would be tedious and is not receommended too. So lets take only those categories which has volume i.e., remove the categogies where the samples are very less and will make a new cateogry as \"others\""
   ]
  },
  {
   "cell_type": "code",
   "execution_count": 324,
   "id": "e1daeeaa-a1f6-4293-a92c-012db910ee5b",
   "metadata": {},
   "outputs": [],
   "source": [
    "lists = []\n",
    "for i in inp2.Genres.value_counts().index:\n",
    "    if inp2.Genres.value_counts()[i]<20:\n",
    "        lists.append(i)\n",
    "inp2.Genres = ['Other' if i in lists else i for i in inp2.Genres] "
   ]
  },
  {
   "cell_type": "code",
   "execution_count": 325,
   "id": "384e3c5b-f8ad-4831-bdb3-732814248a23",
   "metadata": {},
   "outputs": [
    {
     "data": {
      "text/plain": [
       "array(['Art & Design', 'Other', 'Auto & Vehicles', 'Beauty',\n",
       "       'Books & Reference', 'Business', 'Comics', 'Communication',\n",
       "       'Dating', 'Education', 'Education;Education',\n",
       "       'Education;Pretend Play', 'Entertainment',\n",
       "       'Entertainment;Music & Video', 'Events', 'Finance', 'Food & Drink',\n",
       "       'Health & Fitness', 'House & Home', 'Libraries & Demo',\n",
       "       'Lifestyle', 'Card', 'Casual', 'Puzzle', 'Action', 'Arcade',\n",
       "       'Word', 'Racing', 'Sports', 'Board', 'Simulation', 'Role Playing',\n",
       "       'Adventure', 'Strategy', 'Trivia', 'Educational;Education',\n",
       "       'Casual;Pretend Play', 'Medical', 'Social', 'Shopping',\n",
       "       'Photography', 'Travel & Local', 'Tools', 'Personalization',\n",
       "       'Productivity', 'Parenting', 'Weather', 'Video Players & Editors',\n",
       "       'News & Magazines', 'Maps & Navigation', 'Educational', 'Casino'],\n",
       "      dtype=object)"
      ]
     },
     "execution_count": 325,
     "metadata": {},
     "output_type": "execute_result"
    }
   ],
   "source": [
    "inp2[\"Genres\"].unique()"
   ]
  },
  {
   "cell_type": "code",
   "execution_count": 326,
   "id": "20135aa9-7e16-4f91-a93f-a80752e1c909",
   "metadata": {},
   "outputs": [],
   "source": [
    "inp2.Genres = pd.Categorical(inp2['Genres'])\n",
    "x = inp2[[\"Genres\"]]\n",
    "del inp2['Genres']\n",
    "dummies = pd.get_dummies(x, prefix = 'Genres')\n",
    "inp2 = pd.concat([inp2,dummies], axis=1)"
   ]
  },
  {
   "cell_type": "code",
   "execution_count": 327,
   "id": "d886f3de-d1af-4fd1-a01f-ddd62deeec56",
   "metadata": {},
   "outputs": [
    {
     "data": {
      "text/plain": [
       "array(['Everyone', 'Teen', 'Everyone 10+', 'Mature 17+',\n",
       "       'Adults only 18+', 'Unrated'], dtype=object)"
      ]
     },
     "execution_count": 327,
     "metadata": {},
     "output_type": "execute_result"
    }
   ],
   "source": [
    "inp2[\"Content Rating\"].unique()"
   ]
  },
  {
   "cell_type": "code",
   "execution_count": 328,
   "id": "4256c0ae-ad8c-4ca8-a509-2ca34671d528",
   "metadata": {},
   "outputs": [
    {
     "data": {
      "text/html": [
       "<div>\n",
       "<style scoped>\n",
       "    .dataframe tbody tr th:only-of-type {\n",
       "        vertical-align: middle;\n",
       "    }\n",
       "\n",
       "    .dataframe tbody tr th {\n",
       "        vertical-align: top;\n",
       "    }\n",
       "\n",
       "    .dataframe thead th {\n",
       "        text-align: right;\n",
       "    }\n",
       "</style>\n",
       "<table border=\"1\" class=\"dataframe\">\n",
       "  <thead>\n",
       "    <tr style=\"text-align: right;\">\n",
       "      <th></th>\n",
       "      <th>Rating</th>\n",
       "      <th>Reviews</th>\n",
       "      <th>Size</th>\n",
       "      <th>Installs</th>\n",
       "      <th>Price</th>\n",
       "      <th>Category_ART_AND_DESIGN</th>\n",
       "      <th>Category_AUTO_AND_VEHICLES</th>\n",
       "      <th>Category_BEAUTY</th>\n",
       "      <th>Category_BOOKS_AND_REFERENCE</th>\n",
       "      <th>Category_BUSINESS</th>\n",
       "      <th>...</th>\n",
       "      <th>Genres_Trivia</th>\n",
       "      <th>Genres_Video Players &amp; Editors</th>\n",
       "      <th>Genres_Weather</th>\n",
       "      <th>Genres_Word</th>\n",
       "      <th>Content Rating_Adults only 18+</th>\n",
       "      <th>Content Rating_Everyone</th>\n",
       "      <th>Content Rating_Everyone 10+</th>\n",
       "      <th>Content Rating_Mature 17+</th>\n",
       "      <th>Content Rating_Teen</th>\n",
       "      <th>Content Rating_Unrated</th>\n",
       "    </tr>\n",
       "  </thead>\n",
       "  <tbody>\n",
       "    <tr>\n",
       "      <th>0</th>\n",
       "      <td>4.1</td>\n",
       "      <td>5.075174</td>\n",
       "      <td>19000.0</td>\n",
       "      <td>10000</td>\n",
       "      <td>0</td>\n",
       "      <td>1</td>\n",
       "      <td>0</td>\n",
       "      <td>0</td>\n",
       "      <td>0</td>\n",
       "      <td>0</td>\n",
       "      <td>...</td>\n",
       "      <td>0</td>\n",
       "      <td>0</td>\n",
       "      <td>0</td>\n",
       "      <td>0</td>\n",
       "      <td>0</td>\n",
       "      <td>1</td>\n",
       "      <td>0</td>\n",
       "      <td>0</td>\n",
       "      <td>0</td>\n",
       "      <td>0</td>\n",
       "    </tr>\n",
       "    <tr>\n",
       "      <th>1</th>\n",
       "      <td>3.9</td>\n",
       "      <td>6.875232</td>\n",
       "      <td>14000.0</td>\n",
       "      <td>500000</td>\n",
       "      <td>0</td>\n",
       "      <td>1</td>\n",
       "      <td>0</td>\n",
       "      <td>0</td>\n",
       "      <td>0</td>\n",
       "      <td>0</td>\n",
       "      <td>...</td>\n",
       "      <td>0</td>\n",
       "      <td>0</td>\n",
       "      <td>0</td>\n",
       "      <td>0</td>\n",
       "      <td>0</td>\n",
       "      <td>1</td>\n",
       "      <td>0</td>\n",
       "      <td>0</td>\n",
       "      <td>0</td>\n",
       "      <td>0</td>\n",
       "    </tr>\n",
       "    <tr>\n",
       "      <th>2</th>\n",
       "      <td>4.7</td>\n",
       "      <td>11.379520</td>\n",
       "      <td>8700.0</td>\n",
       "      <td>5000000</td>\n",
       "      <td>0</td>\n",
       "      <td>1</td>\n",
       "      <td>0</td>\n",
       "      <td>0</td>\n",
       "      <td>0</td>\n",
       "      <td>0</td>\n",
       "      <td>...</td>\n",
       "      <td>0</td>\n",
       "      <td>0</td>\n",
       "      <td>0</td>\n",
       "      <td>0</td>\n",
       "      <td>0</td>\n",
       "      <td>1</td>\n",
       "      <td>0</td>\n",
       "      <td>0</td>\n",
       "      <td>0</td>\n",
       "      <td>0</td>\n",
       "    </tr>\n",
       "    <tr>\n",
       "      <th>4</th>\n",
       "      <td>4.3</td>\n",
       "      <td>6.875232</td>\n",
       "      <td>2800.0</td>\n",
       "      <td>100000</td>\n",
       "      <td>0</td>\n",
       "      <td>1</td>\n",
       "      <td>0</td>\n",
       "      <td>0</td>\n",
       "      <td>0</td>\n",
       "      <td>0</td>\n",
       "      <td>...</td>\n",
       "      <td>0</td>\n",
       "      <td>0</td>\n",
       "      <td>0</td>\n",
       "      <td>0</td>\n",
       "      <td>0</td>\n",
       "      <td>1</td>\n",
       "      <td>0</td>\n",
       "      <td>0</td>\n",
       "      <td>0</td>\n",
       "      <td>0</td>\n",
       "    </tr>\n",
       "    <tr>\n",
       "      <th>5</th>\n",
       "      <td>4.4</td>\n",
       "      <td>5.123964</td>\n",
       "      <td>5600.0</td>\n",
       "      <td>50000</td>\n",
       "      <td>0</td>\n",
       "      <td>1</td>\n",
       "      <td>0</td>\n",
       "      <td>0</td>\n",
       "      <td>0</td>\n",
       "      <td>0</td>\n",
       "      <td>...</td>\n",
       "      <td>0</td>\n",
       "      <td>0</td>\n",
       "      <td>0</td>\n",
       "      <td>0</td>\n",
       "      <td>0</td>\n",
       "      <td>1</td>\n",
       "      <td>0</td>\n",
       "      <td>0</td>\n",
       "      <td>0</td>\n",
       "      <td>0</td>\n",
       "    </tr>\n",
       "  </tbody>\n",
       "</table>\n",
       "<p>5 rows × 96 columns</p>\n",
       "</div>"
      ],
      "text/plain": [
       "   Rating    Reviews     Size  Installs  Price  Category_ART_AND_DESIGN  \\\n",
       "0     4.1   5.075174  19000.0     10000      0                        1   \n",
       "1     3.9   6.875232  14000.0    500000      0                        1   \n",
       "2     4.7  11.379520   8700.0   5000000      0                        1   \n",
       "4     4.3   6.875232   2800.0    100000      0                        1   \n",
       "5     4.4   5.123964   5600.0     50000      0                        1   \n",
       "\n",
       "   Category_AUTO_AND_VEHICLES  Category_BEAUTY  Category_BOOKS_AND_REFERENCE  \\\n",
       "0                           0                0                             0   \n",
       "1                           0                0                             0   \n",
       "2                           0                0                             0   \n",
       "4                           0                0                             0   \n",
       "5                           0                0                             0   \n",
       "\n",
       "   Category_BUSINESS  ...  Genres_Trivia  Genres_Video Players & Editors  \\\n",
       "0                  0  ...              0                               0   \n",
       "1                  0  ...              0                               0   \n",
       "2                  0  ...              0                               0   \n",
       "4                  0  ...              0                               0   \n",
       "5                  0  ...              0                               0   \n",
       "\n",
       "   Genres_Weather  Genres_Word  Content Rating_Adults only 18+  \\\n",
       "0               0            0                               0   \n",
       "1               0            0                               0   \n",
       "2               0            0                               0   \n",
       "4               0            0                               0   \n",
       "5               0            0                               0   \n",
       "\n",
       "   Content Rating_Everyone  Content Rating_Everyone 10+  \\\n",
       "0                        1                            0   \n",
       "1                        1                            0   \n",
       "2                        1                            0   \n",
       "4                        1                            0   \n",
       "5                        1                            0   \n",
       "\n",
       "   Content Rating_Mature 17+  Content Rating_Teen  Content Rating_Unrated  \n",
       "0                          0                    0                       0  \n",
       "1                          0                    0                       0  \n",
       "2                          0                    0                       0  \n",
       "4                          0                    0                       0  \n",
       "5                          0                    0                       0  \n",
       "\n",
       "[5 rows x 96 columns]"
      ]
     },
     "execution_count": 328,
     "metadata": {},
     "output_type": "execute_result"
    }
   ],
   "source": [
    "inp2['Content Rating'] = pd.Categorical(inp2['Content Rating'])\n",
    "\n",
    "x = inp2[['Content Rating']]\n",
    "del inp2['Content Rating']\n",
    "\n",
    "dummies = pd.get_dummies(x, prefix = 'Content Rating')\n",
    "inp2 = pd.concat([inp2,dummies], axis=1)\n",
    "inp2.head()"
   ]
  },
  {
   "cell_type": "markdown",
   "id": "77147868-cf18-4231-b163-e01601cdbae5",
   "metadata": {},
   "source": [
    "#### Lets Deploy the logistic regression model. Make rating of the app as dependent variable"
   ]
  },
  {
   "cell_type": "code",
   "execution_count": 329,
   "id": "dd76f479-a9db-4ac3-ab5c-059ae9c0e12a",
   "metadata": {},
   "outputs": [],
   "source": [
    "from sklearn.model_selection import train_test_split as tts\n",
    "from sklearn.linear_model import LinearRegression as LR\n",
    "from sklearn.metrics import mean_squared_error as mse"
   ]
  },
  {
   "cell_type": "code",
   "execution_count": 345,
   "id": "57077845-ef11-4820-8702-21c6950326ad",
   "metadata": {},
   "outputs": [],
   "source": [
    "model_data = inp2\n",
    "X = model_data.drop('Rating',axis=1)\n",
    "y = model_data['Rating']\n",
    "\n",
    "Xtrain, Xtest, ytrain, ytest = tts(X,y, test_size=0.3, random_state=5)"
   ]
  },
  {
   "cell_type": "markdown",
   "id": "63439fe5-c0ac-4326-867a-3eb9b4dc3d1f",
   "metadata": {},
   "source": [
    "##### Implement Logistic Regression "
   ]
  },
  {
   "cell_type": "code",
   "execution_count": 346,
   "id": "1fc12c5e-2304-4843-85b2-b57f7f3d3ed0",
   "metadata": {},
   "outputs": [
    {
     "data": {
      "text/html": [
       "<div>\n",
       "<style scoped>\n",
       "    .dataframe tbody tr th:only-of-type {\n",
       "        vertical-align: middle;\n",
       "    }\n",
       "\n",
       "    .dataframe tbody tr th {\n",
       "        vertical-align: top;\n",
       "    }\n",
       "\n",
       "    .dataframe thead th {\n",
       "        text-align: right;\n",
       "    }\n",
       "</style>\n",
       "<table border=\"1\" class=\"dataframe\">\n",
       "  <thead>\n",
       "    <tr style=\"text-align: right;\">\n",
       "      <th></th>\n",
       "      <th>Reviews</th>\n",
       "      <th>Size</th>\n",
       "      <th>Installs</th>\n",
       "      <th>Price</th>\n",
       "      <th>Category_ART_AND_DESIGN</th>\n",
       "      <th>Category_AUTO_AND_VEHICLES</th>\n",
       "      <th>Category_BEAUTY</th>\n",
       "      <th>Category_BOOKS_AND_REFERENCE</th>\n",
       "      <th>Category_BUSINESS</th>\n",
       "      <th>Category_COMICS</th>\n",
       "      <th>...</th>\n",
       "      <th>Genres_Trivia</th>\n",
       "      <th>Genres_Video Players &amp; Editors</th>\n",
       "      <th>Genres_Weather</th>\n",
       "      <th>Genres_Word</th>\n",
       "      <th>Content Rating_Adults only 18+</th>\n",
       "      <th>Content Rating_Everyone</th>\n",
       "      <th>Content Rating_Everyone 10+</th>\n",
       "      <th>Content Rating_Mature 17+</th>\n",
       "      <th>Content Rating_Teen</th>\n",
       "      <th>Content Rating_Unrated</th>\n",
       "    </tr>\n",
       "  </thead>\n",
       "  <tbody>\n",
       "    <tr>\n",
       "      <th>8565</th>\n",
       "      <td>8.677269</td>\n",
       "      <td>4400.0</td>\n",
       "      <td>100000</td>\n",
       "      <td>0</td>\n",
       "      <td>0</td>\n",
       "      <td>0</td>\n",
       "      <td>0</td>\n",
       "      <td>0</td>\n",
       "      <td>0</td>\n",
       "      <td>0</td>\n",
       "      <td>...</td>\n",
       "      <td>0</td>\n",
       "      <td>0</td>\n",
       "      <td>0</td>\n",
       "      <td>0</td>\n",
       "      <td>0</td>\n",
       "      <td>1</td>\n",
       "      <td>0</td>\n",
       "      <td>0</td>\n",
       "      <td>0</td>\n",
       "      <td>0</td>\n",
       "    </tr>\n",
       "    <tr>\n",
       "      <th>733</th>\n",
       "      <td>11.412906</td>\n",
       "      <td>0.0</td>\n",
       "      <td>5000000</td>\n",
       "      <td>0</td>\n",
       "      <td>0</td>\n",
       "      <td>0</td>\n",
       "      <td>0</td>\n",
       "      <td>0</td>\n",
       "      <td>0</td>\n",
       "      <td>0</td>\n",
       "      <td>...</td>\n",
       "      <td>0</td>\n",
       "      <td>0</td>\n",
       "      <td>0</td>\n",
       "      <td>0</td>\n",
       "      <td>0</td>\n",
       "      <td>1</td>\n",
       "      <td>0</td>\n",
       "      <td>0</td>\n",
       "      <td>0</td>\n",
       "      <td>0</td>\n",
       "    </tr>\n",
       "    <tr>\n",
       "      <th>7840</th>\n",
       "      <td>11.830208</td>\n",
       "      <td>51000.0</td>\n",
       "      <td>5000000</td>\n",
       "      <td>0</td>\n",
       "      <td>0</td>\n",
       "      <td>0</td>\n",
       "      <td>0</td>\n",
       "      <td>0</td>\n",
       "      <td>0</td>\n",
       "      <td>0</td>\n",
       "      <td>...</td>\n",
       "      <td>0</td>\n",
       "      <td>0</td>\n",
       "      <td>0</td>\n",
       "      <td>0</td>\n",
       "      <td>0</td>\n",
       "      <td>1</td>\n",
       "      <td>0</td>\n",
       "      <td>0</td>\n",
       "      <td>0</td>\n",
       "      <td>0</td>\n",
       "    </tr>\n",
       "    <tr>\n",
       "      <th>1755</th>\n",
       "      <td>9.147933</td>\n",
       "      <td>33000.0</td>\n",
       "      <td>100000</td>\n",
       "      <td>4</td>\n",
       "      <td>0</td>\n",
       "      <td>0</td>\n",
       "      <td>0</td>\n",
       "      <td>0</td>\n",
       "      <td>0</td>\n",
       "      <td>0</td>\n",
       "      <td>...</td>\n",
       "      <td>0</td>\n",
       "      <td>0</td>\n",
       "      <td>0</td>\n",
       "      <td>0</td>\n",
       "      <td>0</td>\n",
       "      <td>1</td>\n",
       "      <td>0</td>\n",
       "      <td>0</td>\n",
       "      <td>0</td>\n",
       "      <td>0</td>\n",
       "    </tr>\n",
       "    <tr>\n",
       "      <th>2021</th>\n",
       "      <td>7.686621</td>\n",
       "      <td>99000.0</td>\n",
       "      <td>500000</td>\n",
       "      <td>0</td>\n",
       "      <td>0</td>\n",
       "      <td>0</td>\n",
       "      <td>0</td>\n",
       "      <td>0</td>\n",
       "      <td>0</td>\n",
       "      <td>0</td>\n",
       "      <td>...</td>\n",
       "      <td>0</td>\n",
       "      <td>0</td>\n",
       "      <td>0</td>\n",
       "      <td>0</td>\n",
       "      <td>0</td>\n",
       "      <td>1</td>\n",
       "      <td>0</td>\n",
       "      <td>0</td>\n",
       "      <td>0</td>\n",
       "      <td>0</td>\n",
       "    </tr>\n",
       "    <tr>\n",
       "      <th>...</th>\n",
       "      <td>...</td>\n",
       "      <td>...</td>\n",
       "      <td>...</td>\n",
       "      <td>...</td>\n",
       "      <td>...</td>\n",
       "      <td>...</td>\n",
       "      <td>...</td>\n",
       "      <td>...</td>\n",
       "      <td>...</td>\n",
       "      <td>...</td>\n",
       "      <td>...</td>\n",
       "      <td>...</td>\n",
       "      <td>...</td>\n",
       "      <td>...</td>\n",
       "      <td>...</td>\n",
       "      <td>...</td>\n",
       "      <td>...</td>\n",
       "      <td>...</td>\n",
       "      <td>...</td>\n",
       "      <td>...</td>\n",
       "      <td>...</td>\n",
       "    </tr>\n",
       "    <tr>\n",
       "      <th>8115</th>\n",
       "      <td>2.397895</td>\n",
       "      <td>3000.0</td>\n",
       "      <td>5000</td>\n",
       "      <td>0</td>\n",
       "      <td>0</td>\n",
       "      <td>0</td>\n",
       "      <td>0</td>\n",
       "      <td>1</td>\n",
       "      <td>0</td>\n",
       "      <td>0</td>\n",
       "      <td>...</td>\n",
       "      <td>0</td>\n",
       "      <td>0</td>\n",
       "      <td>0</td>\n",
       "      <td>0</td>\n",
       "      <td>0</td>\n",
       "      <td>1</td>\n",
       "      <td>0</td>\n",
       "      <td>0</td>\n",
       "      <td>0</td>\n",
       "      <td>0</td>\n",
       "    </tr>\n",
       "    <tr>\n",
       "      <th>3572</th>\n",
       "      <td>10.542258</td>\n",
       "      <td>9100.0</td>\n",
       "      <td>1000000</td>\n",
       "      <td>0</td>\n",
       "      <td>0</td>\n",
       "      <td>0</td>\n",
       "      <td>0</td>\n",
       "      <td>0</td>\n",
       "      <td>0</td>\n",
       "      <td>0</td>\n",
       "      <td>...</td>\n",
       "      <td>0</td>\n",
       "      <td>0</td>\n",
       "      <td>0</td>\n",
       "      <td>0</td>\n",
       "      <td>0</td>\n",
       "      <td>0</td>\n",
       "      <td>0</td>\n",
       "      <td>0</td>\n",
       "      <td>1</td>\n",
       "      <td>0</td>\n",
       "    </tr>\n",
       "    <tr>\n",
       "      <th>4814</th>\n",
       "      <td>12.381957</td>\n",
       "      <td>35000.0</td>\n",
       "      <td>10000000</td>\n",
       "      <td>0</td>\n",
       "      <td>0</td>\n",
       "      <td>0</td>\n",
       "      <td>0</td>\n",
       "      <td>0</td>\n",
       "      <td>0</td>\n",
       "      <td>0</td>\n",
       "      <td>...</td>\n",
       "      <td>0</td>\n",
       "      <td>1</td>\n",
       "      <td>0</td>\n",
       "      <td>0</td>\n",
       "      <td>0</td>\n",
       "      <td>1</td>\n",
       "      <td>0</td>\n",
       "      <td>0</td>\n",
       "      <td>0</td>\n",
       "      <td>0</td>\n",
       "    </tr>\n",
       "    <tr>\n",
       "      <th>2594</th>\n",
       "      <td>8.881003</td>\n",
       "      <td>7300.0</td>\n",
       "      <td>500000</td>\n",
       "      <td>0</td>\n",
       "      <td>0</td>\n",
       "      <td>0</td>\n",
       "      <td>0</td>\n",
       "      <td>0</td>\n",
       "      <td>0</td>\n",
       "      <td>0</td>\n",
       "      <td>...</td>\n",
       "      <td>0</td>\n",
       "      <td>0</td>\n",
       "      <td>0</td>\n",
       "      <td>0</td>\n",
       "      <td>0</td>\n",
       "      <td>1</td>\n",
       "      <td>0</td>\n",
       "      <td>0</td>\n",
       "      <td>0</td>\n",
       "      <td>0</td>\n",
       "    </tr>\n",
       "    <tr>\n",
       "      <th>3424</th>\n",
       "      <td>8.832150</td>\n",
       "      <td>11000.0</td>\n",
       "      <td>100000</td>\n",
       "      <td>0</td>\n",
       "      <td>0</td>\n",
       "      <td>0</td>\n",
       "      <td>0</td>\n",
       "      <td>0</td>\n",
       "      <td>0</td>\n",
       "      <td>0</td>\n",
       "      <td>...</td>\n",
       "      <td>0</td>\n",
       "      <td>0</td>\n",
       "      <td>0</td>\n",
       "      <td>0</td>\n",
       "      <td>0</td>\n",
       "      <td>1</td>\n",
       "      <td>0</td>\n",
       "      <td>0</td>\n",
       "      <td>0</td>\n",
       "      <td>0</td>\n",
       "    </tr>\n",
       "  </tbody>\n",
       "</table>\n",
       "<p>5947 rows × 95 columns</p>\n",
       "</div>"
      ],
      "text/plain": [
       "        Reviews     Size  Installs  Price  Category_ART_AND_DESIGN  \\\n",
       "8565   8.677269   4400.0    100000      0                        0   \n",
       "733   11.412906      0.0   5000000      0                        0   \n",
       "7840  11.830208  51000.0   5000000      0                        0   \n",
       "1755   9.147933  33000.0    100000      4                        0   \n",
       "2021   7.686621  99000.0    500000      0                        0   \n",
       "...         ...      ...       ...    ...                      ...   \n",
       "8115   2.397895   3000.0      5000      0                        0   \n",
       "3572  10.542258   9100.0   1000000      0                        0   \n",
       "4814  12.381957  35000.0  10000000      0                        0   \n",
       "2594   8.881003   7300.0    500000      0                        0   \n",
       "3424   8.832150  11000.0    100000      0                        0   \n",
       "\n",
       "      Category_AUTO_AND_VEHICLES  Category_BEAUTY  \\\n",
       "8565                           0                0   \n",
       "733                            0                0   \n",
       "7840                           0                0   \n",
       "1755                           0                0   \n",
       "2021                           0                0   \n",
       "...                          ...              ...   \n",
       "8115                           0                0   \n",
       "3572                           0                0   \n",
       "4814                           0                0   \n",
       "2594                           0                0   \n",
       "3424                           0                0   \n",
       "\n",
       "      Category_BOOKS_AND_REFERENCE  Category_BUSINESS  Category_COMICS  ...  \\\n",
       "8565                             0                  0                0  ...   \n",
       "733                              0                  0                0  ...   \n",
       "7840                             0                  0                0  ...   \n",
       "1755                             0                  0                0  ...   \n",
       "2021                             0                  0                0  ...   \n",
       "...                            ...                ...              ...  ...   \n",
       "8115                             1                  0                0  ...   \n",
       "3572                             0                  0                0  ...   \n",
       "4814                             0                  0                0  ...   \n",
       "2594                             0                  0                0  ...   \n",
       "3424                             0                  0                0  ...   \n",
       "\n",
       "      Genres_Trivia  Genres_Video Players & Editors  Genres_Weather  \\\n",
       "8565              0                               0               0   \n",
       "733               0                               0               0   \n",
       "7840              0                               0               0   \n",
       "1755              0                               0               0   \n",
       "2021              0                               0               0   \n",
       "...             ...                             ...             ...   \n",
       "8115              0                               0               0   \n",
       "3572              0                               0               0   \n",
       "4814              0                               1               0   \n",
       "2594              0                               0               0   \n",
       "3424              0                               0               0   \n",
       "\n",
       "      Genres_Word  Content Rating_Adults only 18+  Content Rating_Everyone  \\\n",
       "8565            0                               0                        1   \n",
       "733             0                               0                        1   \n",
       "7840            0                               0                        1   \n",
       "1755            0                               0                        1   \n",
       "2021            0                               0                        1   \n",
       "...           ...                             ...                      ...   \n",
       "8115            0                               0                        1   \n",
       "3572            0                               0                        0   \n",
       "4814            0                               0                        1   \n",
       "2594            0                               0                        1   \n",
       "3424            0                               0                        1   \n",
       "\n",
       "      Content Rating_Everyone 10+  Content Rating_Mature 17+  \\\n",
       "8565                            0                          0   \n",
       "733                             0                          0   \n",
       "7840                            0                          0   \n",
       "1755                            0                          0   \n",
       "2021                            0                          0   \n",
       "...                           ...                        ...   \n",
       "8115                            0                          0   \n",
       "3572                            0                          0   \n",
       "4814                            0                          0   \n",
       "2594                            0                          0   \n",
       "3424                            0                          0   \n",
       "\n",
       "      Content Rating_Teen  Content Rating_Unrated  \n",
       "8565                    0                       0  \n",
       "733                     0                       0  \n",
       "7840                    0                       0  \n",
       "1755                    0                       0  \n",
       "2021                    0                       0  \n",
       "...                   ...                     ...  \n",
       "8115                    0                       0  \n",
       "3572                    1                       0  \n",
       "4814                    0                       0  \n",
       "2594                    0                       0  \n",
       "3424                    0                       0  \n",
       "\n",
       "[5947 rows x 95 columns]"
      ]
     },
     "execution_count": 346,
     "metadata": {},
     "output_type": "execute_result"
    }
   ],
   "source": [
    "Xtrain"
   ]
  },
  {
   "cell_type": "code",
   "execution_count": null,
   "id": "54e99ea0-aa81-4100-85ca-445dce456ab1",
   "metadata": {},
   "outputs": [],
   "source": []
  },
  {
   "cell_type": "code",
   "execution_count": 347,
   "id": "30d5e2a4-453c-432b-af5b-972a7910aaf9",
   "metadata": {},
   "outputs": [
    {
     "data": {
      "text/html": [
       "<style>#sk-container-id-4 {color: black;}#sk-container-id-4 pre{padding: 0;}#sk-container-id-4 div.sk-toggleable {background-color: white;}#sk-container-id-4 label.sk-toggleable__label {cursor: pointer;display: block;width: 100%;margin-bottom: 0;padding: 0.3em;box-sizing: border-box;text-align: center;}#sk-container-id-4 label.sk-toggleable__label-arrow:before {content: \"▸\";float: left;margin-right: 0.25em;color: #696969;}#sk-container-id-4 label.sk-toggleable__label-arrow:hover:before {color: black;}#sk-container-id-4 div.sk-estimator:hover label.sk-toggleable__label-arrow:before {color: black;}#sk-container-id-4 div.sk-toggleable__content {max-height: 0;max-width: 0;overflow: hidden;text-align: left;background-color: #f0f8ff;}#sk-container-id-4 div.sk-toggleable__content pre {margin: 0.2em;color: black;border-radius: 0.25em;background-color: #f0f8ff;}#sk-container-id-4 input.sk-toggleable__control:checked~div.sk-toggleable__content {max-height: 200px;max-width: 100%;overflow: auto;}#sk-container-id-4 input.sk-toggleable__control:checked~label.sk-toggleable__label-arrow:before {content: \"▾\";}#sk-container-id-4 div.sk-estimator input.sk-toggleable__control:checked~label.sk-toggleable__label {background-color: #d4ebff;}#sk-container-id-4 div.sk-label input.sk-toggleable__control:checked~label.sk-toggleable__label {background-color: #d4ebff;}#sk-container-id-4 input.sk-hidden--visually {border: 0;clip: rect(1px 1px 1px 1px);clip: rect(1px, 1px, 1px, 1px);height: 1px;margin: -1px;overflow: hidden;padding: 0;position: absolute;width: 1px;}#sk-container-id-4 div.sk-estimator {font-family: monospace;background-color: #f0f8ff;border: 1px dotted black;border-radius: 0.25em;box-sizing: border-box;margin-bottom: 0.5em;}#sk-container-id-4 div.sk-estimator:hover {background-color: #d4ebff;}#sk-container-id-4 div.sk-parallel-item::after {content: \"\";width: 100%;border-bottom: 1px solid gray;flex-grow: 1;}#sk-container-id-4 div.sk-label:hover label.sk-toggleable__label {background-color: #d4ebff;}#sk-container-id-4 div.sk-serial::before {content: \"\";position: absolute;border-left: 1px solid gray;box-sizing: border-box;top: 0;bottom: 0;left: 50%;z-index: 0;}#sk-container-id-4 div.sk-serial {display: flex;flex-direction: column;align-items: center;background-color: white;padding-right: 0.2em;padding-left: 0.2em;position: relative;}#sk-container-id-4 div.sk-item {position: relative;z-index: 1;}#sk-container-id-4 div.sk-parallel {display: flex;align-items: stretch;justify-content: center;background-color: white;position: relative;}#sk-container-id-4 div.sk-item::before, #sk-container-id-4 div.sk-parallel-item::before {content: \"\";position: absolute;border-left: 1px solid gray;box-sizing: border-box;top: 0;bottom: 0;left: 50%;z-index: -1;}#sk-container-id-4 div.sk-parallel-item {display: flex;flex-direction: column;z-index: 1;position: relative;background-color: white;}#sk-container-id-4 div.sk-parallel-item:first-child::after {align-self: flex-end;width: 50%;}#sk-container-id-4 div.sk-parallel-item:last-child::after {align-self: flex-start;width: 50%;}#sk-container-id-4 div.sk-parallel-item:only-child::after {width: 0;}#sk-container-id-4 div.sk-dashed-wrapped {border: 1px dashed gray;margin: 0 0.4em 0.5em 0.4em;box-sizing: border-box;padding-bottom: 0.4em;background-color: white;}#sk-container-id-4 div.sk-label label {font-family: monospace;font-weight: bold;display: inline-block;line-height: 1.2em;}#sk-container-id-4 div.sk-label-container {text-align: center;}#sk-container-id-4 div.sk-container {/* jupyter's `normalize.less` sets `[hidden] { display: none; }` but bootstrap.min.css set `[hidden] { display: none !important; }` so we also need the `!important` here to be able to override the default hidden behavior on the sphinx rendered scikit-learn.org. See: https://github.com/scikit-learn/scikit-learn/issues/21755 */display: inline-block !important;position: relative;}#sk-container-id-4 div.sk-text-repr-fallback {display: none;}</style><div id=\"sk-container-id-4\" class=\"sk-top-container\"><div class=\"sk-text-repr-fallback\"><pre>LinearRegression()</pre><b>In a Jupyter environment, please rerun this cell to show the HTML representation or trust the notebook. <br />On GitHub, the HTML representation is unable to render, please try loading this page with nbviewer.org.</b></div><div class=\"sk-container\" hidden><div class=\"sk-item\"><div class=\"sk-estimator sk-toggleable\"><input class=\"sk-toggleable__control sk-hidden--visually\" id=\"sk-estimator-id-4\" type=\"checkbox\" checked><label for=\"sk-estimator-id-4\" class=\"sk-toggleable__label sk-toggleable__label-arrow\">LinearRegression</label><div class=\"sk-toggleable__content\"><pre>LinearRegression()</pre></div></div></div></div></div>"
      ],
      "text/plain": [
       "LinearRegression()"
      ]
     },
     "execution_count": 347,
     "metadata": {},
     "output_type": "execute_result"
    }
   ],
   "source": [
    "reg_all = LR()\n",
    "reg_all.fit(Xtrain,ytrain)"
   ]
  },
  {
   "cell_type": "code",
   "execution_count": 348,
   "id": "6f898a75-9243-4fe9-87d7-eff6482a8cb1",
   "metadata": {},
   "outputs": [
    {
     "name": "stdout",
     "output_type": "stream",
     "text": [
      "The R2 value of the Training Set is : 0.074\n"
     ]
    }
   ],
   "source": [
    "R2_train = round(reg_all.score(Xtrain,ytrain),3)\n",
    "print(\"The R2 value of the Training Set is : {}\".format(R2_train))"
   ]
  },
  {
   "cell_type": "code",
   "execution_count": 349,
   "id": "d878d91f-b56f-466f-8041-f65d980df8aa",
   "metadata": {},
   "outputs": [
    {
     "name": "stdout",
     "output_type": "stream",
     "text": [
      "The R2 value of the Testing Set is : 0.063\n"
     ]
    }
   ],
   "source": [
    "R2_test = round(reg_all.score(Xtest,ytest),3)\n",
    "print(\"The R2 value of the Testing Set is : {}\".format(R2_test))"
   ]
  }
 ],
 "metadata": {
  "kernelspec": {
   "display_name": "Python 3 [3.10]",
   "language": "python",
   "name": "python3"
  },
  "language_info": {
   "codemirror_mode": {
    "name": "ipython",
    "version": 3
   },
   "file_extension": ".py",
   "mimetype": "text/x-python",
   "name": "python",
   "nbconvert_exporter": "python",
   "pygments_lexer": "ipython3",
   "version": "3.10.2"
  }
 },
 "nbformat": 4,
 "nbformat_minor": 5
}
